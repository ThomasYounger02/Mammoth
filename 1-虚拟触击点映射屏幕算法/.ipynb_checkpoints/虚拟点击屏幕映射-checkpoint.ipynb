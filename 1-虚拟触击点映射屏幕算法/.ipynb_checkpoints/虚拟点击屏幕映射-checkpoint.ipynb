{
 "cells": [
  {
   "cell_type": "markdown",
   "id": "904a44e0",
   "metadata": {},
   "source": [
    "# 项目背景"
   ]
  },
  {
   "cell_type": "markdown",
   "id": "fcdf15d2",
   "metadata": {},
   "source": [
    "# Pkgs"
   ]
  },
  {
   "cell_type": "code",
   "execution_count": 1,
   "id": "bab69730",
   "metadata": {},
   "outputs": [],
   "source": [
    "import matplotlib.pyplot as plt\n",
    "import numpy as np\n",
    "from scipy.linalg import solve\n",
    "import math"
   ]
  },
  {
   "cell_type": "code",
   "execution_count": null,
   "id": "6f3b292e",
   "metadata": {},
   "outputs": [],
   "source": []
  },
  {
   "cell_type": "code",
   "execution_count": 4,
   "id": "f42b9ec3",
   "metadata": {},
   "outputs": [],
   "source": [
    "# 根据平面上的两个点坐标，求解经过的直线\n",
    "def line_coef(point_a, point_b):\n",
    "    '''\n",
    "    根据平面上的两个点坐标，求解经过的直线的解析方程系数\n",
    "    \n",
    "    Args:\n",
    "        point_a(list) --第一个点的坐标[x, y].\n",
    "        point_b(list) --第二个点的坐标[x, y].\n",
    "    Returns:\n",
    "        k(float) --直线斜率\n",
    "        b(float) --直线截距\n",
    "    '''\n",
    "    # 斜率和截距\n",
    "    k = (point_a[1]-point_b[1])/(point_a[0]-point_b[0])     # k = (y1-y0)/(x1-x0)\n",
    "    b =point_a[1]-k*point_a[0]                              # b = y0-k*x0\n",
    "    \n",
    "    # 直线解析方程\n",
    "    print('直线方程为：y = {:.4}x+{:.4}'.format(k, b))\n",
    "    return k, b"
   ]
  },
  {
   "cell_type": "code",
   "execution_count": 5,
   "id": "69c9150b",
   "metadata": {},
   "outputs": [
    {
     "name": "stdout",
     "output_type": "stream",
     "text": [
      "直线方程为：y = 1.222x+147.8\n"
     ]
    }
   ],
   "source": [
    "point_a = [10, 160]\n",
    "point_c = [190, 380]\n",
    "\n",
    "line_ac_k, line_ac_b = line_coef(point_a, point_c)"
   ]
  },
  {
   "cell_type": "code",
   "execution_count": null,
   "id": "5454962e",
   "metadata": {},
   "outputs": [],
   "source": []
  }
 ],
 "metadata": {
  "kernelspec": {
   "display_name": "Python 3 (ipykernel)",
   "language": "python",
   "name": "python3"
  },
  "language_info": {
   "codemirror_mode": {
    "name": "ipython",
    "version": 3
   },
   "file_extension": ".py",
   "mimetype": "text/x-python",
   "name": "python",
   "nbconvert_exporter": "python",
   "pygments_lexer": "ipython3",
   "version": "3.11.5"
  },
  "toc": {
   "base_numbering": 1,
   "nav_menu": {},
   "number_sections": true,
   "sideBar": true,
   "skip_h1_title": false,
   "title_cell": "Table of Contents",
   "title_sidebar": "Contents",
   "toc_cell": false,
   "toc_position": {},
   "toc_section_display": true,
   "toc_window_display": false
  }
 },
 "nbformat": 4,
 "nbformat_minor": 5
}
