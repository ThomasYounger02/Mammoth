{
 "cells": [
  {
   "cell_type": "markdown",
   "id": "b8a1d25e",
   "metadata": {},
   "source": [
    "# Project Intro\n",
    "`24点游戏`\n",
    "两位玩家参与，两位玩家平分一副牌。每一轮两人同时分别出2张牌，对4张牌的点数进行**加减乘除**运算，结果等于24时为一种有效答案。最快给出答案玩家获胜，获胜玩家获得4张牌，然后继续进行下一轮，直至其中一位玩家手牌数为0。\n",
    "- JQK，分别代表11、12、13点；\n",
    "- JOKER牌不参与游戏；\n",
    "- 运算要限于**加减乘除**；\n",
    "\n",
    "## Questions\n",
    "- 考虑花色不同，有多少种出牌可能？点数可能？\n",
    "- 其中能计算出24点的牌型数有多少种？点数组合有多少种？\n",
    "- 不考虑花色，有效答案最多的点数组合是？\n",
    "\n",
    "## 产出\n",
    "- 提供4张牌，根据点数，提供对应的计算过程。\n",
    "\n",
    "## 策略\n",
    "- 根据分析结果提出增加胜率的策略；\n",
    "\n",
    "## 拓展\n",
    "- 将4张牌的24点计算过程，做成一个输出的产品【用户4张牌，呈现计算过程】"
   ]
  },
  {
   "cell_type": "markdown",
   "id": "3e1c54ad",
   "metadata": {},
   "source": [
    "# Pkgs"
   ]
  },
  {
   "cell_type": "code",
   "execution_count": 1,
   "id": "459583ac",
   "metadata": {},
   "outputs": [],
   "source": [
    "from operator import *\n",
    "import itertools\n",
    "\n",
    "import pandas as pd\n",
    "import numpy as np"
   ]
  },
  {
   "cell_type": "markdown",
   "id": "f61e9cd5",
   "metadata": {},
   "source": [
    "# 数据准备"
   ]
  },
  {
   "cell_type": "code",
   "execution_count": 4,
   "id": "c81624b2",
   "metadata": {},
   "outputs": [
    {
     "data": {
      "text/html": [
       "<div>\n",
       "<style scoped>\n",
       "    .dataframe tbody tr th:only-of-type {\n",
       "        vertical-align: middle;\n",
       "    }\n",
       "\n",
       "    .dataframe tbody tr th {\n",
       "        vertical-align: top;\n",
       "    }\n",
       "\n",
       "    .dataframe thead th {\n",
       "        text-align: right;\n",
       "    }\n",
       "</style>\n",
       "<table border=\"1\" class=\"dataframe\">\n",
       "  <thead>\n",
       "    <tr style=\"text-align: right;\">\n",
       "      <th></th>\n",
       "      <th>spade</th>\n",
       "      <th>heart</th>\n",
       "      <th>diamond</th>\n",
       "      <th>club</th>\n",
       "    </tr>\n",
       "  </thead>\n",
       "  <tbody>\n",
       "    <tr>\n",
       "      <th>0</th>\n",
       "      <td>1</td>\n",
       "      <td>1</td>\n",
       "      <td>1</td>\n",
       "      <td>1</td>\n",
       "    </tr>\n",
       "    <tr>\n",
       "      <th>1</th>\n",
       "      <td>1</td>\n",
       "      <td>1</td>\n",
       "      <td>1</td>\n",
       "      <td>2</td>\n",
       "    </tr>\n",
       "    <tr>\n",
       "      <th>2</th>\n",
       "      <td>1</td>\n",
       "      <td>1</td>\n",
       "      <td>1</td>\n",
       "      <td>3</td>\n",
       "    </tr>\n",
       "    <tr>\n",
       "      <th>3</th>\n",
       "      <td>1</td>\n",
       "      <td>1</td>\n",
       "      <td>1</td>\n",
       "      <td>4</td>\n",
       "    </tr>\n",
       "    <tr>\n",
       "      <th>4</th>\n",
       "      <td>1</td>\n",
       "      <td>1</td>\n",
       "      <td>1</td>\n",
       "      <td>5</td>\n",
       "    </tr>\n",
       "  </tbody>\n",
       "</table>\n",
       "</div>"
      ],
      "text/plain": [
       "   spade  heart  diamond  club\n",
       "0      1      1        1     1\n",
       "1      1      1        1     2\n",
       "2      1      1        1     3\n",
       "3      1      1        1     4\n",
       "4      1      1        1     5"
      ]
     },
     "execution_count": 4,
     "metadata": {},
     "output_type": "execute_result"
    }
   ],
   "source": [
    "# 4种花色的牌型，每种牌13张\n",
    "spade = range(1, 14)\n",
    "heart = range(1, 14)\n",
    "diamond = range(1, 14)\n",
    "club = range(1, 14)\n",
    "\n",
    "combinations = list(itertools.product(spade, heart, diamond, club))  # 所有排列组合\n",
    "\n",
    "comb_df = pd.DataFrame(combinations, columns=['spade', 'heart', 'diamond', 'club'])\n",
    "comb_df.head()"
   ]
  },
  {
   "cell_type": "markdown",
   "id": "a2956945",
   "metadata": {},
   "source": [
    "# 一种实现方法\n",
    "## 两个数的结果空间"
   ]
  },
  {
   "cell_type": "code",
   "execution_count": 2,
   "id": "4ffacec0",
   "metadata": {},
   "outputs": [],
   "source": [
    "# 定义一个按符号进行四则运算的函数\n",
    "def calculator(num_a, num_b, oper):\n",
    "    '''按计算符号整合为一个函数。\n",
    "    Args:\n",
    "        num_a(int/float) - a num.\n",
    "        num_b(int/float) - a num.\n",
    "        oper(str)        - a operator.\n",
    "    Returns:\n",
    "        result(int/float) - result of a and b after operatin.\n",
    "    '''\n",
    "    cal_dict = {\n",
    "        '+': add,\n",
    "        '-': sub,\n",
    "        '*': mul,\n",
    "        '/': truediv  \n",
    "        }\n",
    "    return cal_dict[oper](num_a, num_b)"
   ]
  },
  {
   "cell_type": "code",
   "execution_count": 3,
   "id": "9bc165dc",
   "metadata": {},
   "outputs": [
    {
     "data": {
      "text/plain": [
       "0.3333333333333333"
      ]
     },
     "execution_count": 3,
     "metadata": {},
     "output_type": "execute_result"
    }
   ],
   "source": [
    "calculator(1, 3, '/')"
   ]
  },
  {
   "cell_type": "code",
   "execution_count": 23,
   "id": "72a73d30",
   "metadata": {},
   "outputs": [],
   "source": [
    "# 两个数的所有结果空间\n",
    "def two_num_results(num_a, num_b):\n",
    "    result = []\n",
    "    \n",
    "    result_add = calculator(num_a, num_b, '+')\n",
    "    result_sub1 = calculator(num_a, num_b, '-')    # 减法有两种情况\n",
    "    result_sub2 = calculator(num_b, num_a, '-')\n",
    "    result_mul = calculator(num_a, num_b, '*')\n",
    "    result = result + [result_add, result_sub1, result_sub2, result_mul]\n",
    "    \n",
    "    # 除法要特殊处理\n",
    "    if num_a != 0:\n",
    "        result_div1 = calculator(num_b, num_a, '/')\n",
    "        result.append(result_div1)\n",
    "    if num_b != 0:\n",
    "        result_div2 = calculator(num_a, num_b, '/')\n",
    "        result.append(result_div2)\n",
    "        \n",
    "    result = list(set(result))\n",
    "    return result"
   ]
  },
  {
   "cell_type": "code",
   "execution_count": 25,
   "id": "57968db8",
   "metadata": {},
   "outputs": [
    {
     "name": "stdout",
     "output_type": "stream",
     "text": [
      "[0.6666666666666666, 1, 1.5, 5, 6, -1]\n",
      "[0.6666666666666666, 1, 1.5, 5, 6, -1]\n"
     ]
    }
   ],
   "source": [
    "print(two_num_results(2, 3))\n",
    "\n",
    "print(two_num_results(3, 2))   # 验证，交换后结果一致"
   ]
  },
  {
   "cell_type": "markdown",
   "id": "4b231d6e",
   "metadata": {},
   "source": [
    "## 两个list的元素组合后的结果空间"
   ]
  },
  {
   "cell_type": "code",
   "execution_count": 27,
   "id": "f97f424e",
   "metadata": {},
   "outputs": [],
   "source": [
    "# 拓展为两个列表的组合空间\n",
    "def two_list_results(list_a, list_b):\n",
    "    result = []\n",
    "    for num_a in list_a:\n",
    "        for num_b in list_b:\n",
    "            result = result + two_num_results(num_a, num_b)\n",
    "    result = list(set(result))\n",
    "    return result "
   ]
  },
  {
   "cell_type": "code",
   "execution_count": 33,
   "id": "1de6e070",
   "metadata": {},
   "outputs": [
    {
     "name": "stdout",
     "output_type": "stream",
     "text": [
      "[-5, -4, -3, -2, -1, 0.16666666666666666, 0.2, 0.25, 0.3333333333333333, 0.4, 0.5, 0.6, 0.75, 1, 1.3333333333333333, 1.6666666666666667, 2, 2.5, 3, 4, 5, 6, 7, 8, 9, 10, 12, 15, 18]\n",
      "[-5, -4, -3, -2, -1, 0.16666666666666666, 0.2, 0.25, 0.3333333333333333, 0.4, 0.5, 0.6, 0.75, 1, 1.3333333333333333, 1.6666666666666667, 2, 2.5, 3, 4, 5, 6, 7, 8, 9, 10, 12, 15, 18]\n"
     ]
    }
   ],
   "source": [
    "list_a = [1, 2, 3]\n",
    "list_b = [4, 5, 6]\n",
    "result_a = two_list_results(list_a, list_b)\n",
    "result_b = two_list_results(list_a, list_b)\n",
    "result_a.sort()\n",
    "result_b.sort()\n",
    "\n",
    "print(result_a)\n",
    "print(result_b)"
   ]
  },
  {
   "cell_type": "markdown",
   "id": "cc42e0d8",
   "metadata": {},
   "source": [
    "## 三个数的结果空间"
   ]
  },
  {
   "cell_type": "code",
   "execution_count": 34,
   "id": "b87ac627",
   "metadata": {},
   "outputs": [],
   "source": [
    "# 拓展为三个数的结果空间\n",
    "def three_num_results(num_a, num_b, num_c):\n",
    "    result = []\n",
    "    num_list = [num_a, num_b, num_c]\n",
    "    \n",
    "    # 1+2模式\n",
    "    for i in range(len(num_list)):\n",
    "        temp_list = num_list.copy()\n",
    "        removed_num = temp_list[i]\n",
    "        del temp_list[i]\n",
    "        \n",
    "        # 剩余2个数的结果空间\n",
    "        temp_result = two_num_results(temp_list[0], temp_list[1])\n",
    "        # 补充加上删除元素的结果空间\n",
    "        for num in temp_result:\n",
    "            result = result + two_num_results(num, removed_num)\n",
    "\n",
    "    result = list(set(result))\n",
    "    return result"
   ]
  },
  {
   "cell_type": "markdown",
   "id": "51ac6d0a",
   "metadata": {},
   "source": [
    "## 4个数的结果空间"
   ]
  },
  {
   "cell_type": "code",
   "execution_count": 42,
   "id": "01b41598",
   "metadata": {},
   "outputs": [],
   "source": [
    "def four_num_results(num_a, num_b, num_c, num_d):\n",
    "    result = []\n",
    "    num_list = [num_a, num_b, num_c, num_d]\n",
    "    \n",
    "    # 1+3方式\n",
    "    for i in range(len(num_list)):\n",
    "        temp_list = num_list.copy()\n",
    "        removed_num = num_list[i]\n",
    "        del temp_list[i]\n",
    "        \n",
    "        # 剩余3个数结果空间\n",
    "        temp_result = three_num_results(temp_list[0], temp_list[1], temp_list[2])\n",
    "        # 补充加上删除元素的结果空间\n",
    "        for e in temp_result:\n",
    "            result = result + two_num_results(e, removed_num)\n",
    "    \n",
    "    # 2+2 模式\n",
    "    num_1 = num_list[0]                             # 固定一个\n",
    "    for i in range(1, 4):\n",
    "        num_2 = num_list[i]\n",
    "        result_h1 = two_num_results(num_1, num_2)   # 选出的两个数进行计算\n",
    "        \n",
    "        temp_list = num_list.copy()\n",
    "        del temp_list[i]\n",
    "        del temp_list[0]\n",
    "        num_3 = temp_list[0]\n",
    "        num_4 = temp_list[1]\n",
    "        result_h2 = two_num_results(num_3, num_4)   # 剩余两个\n",
    "        # 合并结果\n",
    "        result = result + two_list_results(result_h1, result_h2)\n",
    "    # 两种模式的结果\n",
    "    result = list(set(result))\n",
    "    return result"
   ]
  },
  {
   "cell_type": "code",
   "execution_count": 106,
   "id": "7e86bf46",
   "metadata": {},
   "outputs": [
    {
     "data": {
      "text/plain": [
       "[-189,\n",
       " -183,\n",
       " -168,\n",
       " -120,\n",
       " -85,\n",
       " -64,\n",
       " -63.0,\n",
       " -58,\n",
       " -56.0,\n",
       " -55,\n",
       " -48,\n",
       " -45,\n",
       " -43,\n",
       " -40,\n",
       " -39,\n",
       " -37,\n",
       " -29,\n",
       " -25,\n",
       " -23.99999999999999,\n",
       " -23.625,\n",
       " -23,\n",
       " -22.875,\n",
       " -21.333333333333332,\n",
       " -21.0,\n",
       " -20.333333333333332,\n",
       " -19,\n",
       " -18.333333333333332,\n",
       " -16,\n",
       " -15.0,\n",
       " -13.333333333333334,\n",
       " -13.333333333333332,\n",
       " -13,\n",
       " -10.625,\n",
       " -10,\n",
       " -9.666666666666666,\n",
       " -9,\n",
       " -8.6,\n",
       " -8.333333333333334,\n",
       " -8,\n",
       " -7.875,\n",
       " -7.7272727272727275,\n",
       " -7.666666666666666,\n",
       " -7.4,\n",
       " -7.25,\n",
       " -7.111111111111111,\n",
       " -7,\n",
       " -6.875,\n",
       " -6.666666666666667,\n",
       " -6.333333333333333,\n",
       " -6,\n",
       " -5.375,\n",
       " -5.333333333333333,\n",
       " -5.0,\n",
       " -4.800000000000001,\n",
       " -4.8,\n",
       " -4.625,\n",
       " -4.6,\n",
       " -4.333333333333334,\n",
       " -4.333333333333333,\n",
       " -4.0,\n",
       " -3.625,\n",
       " -3.0476190476190474,\n",
       " -3,\n",
       " -2.953125,\n",
       " -2.8125,\n",
       " -2.666666666666668,\n",
       " -2.6666666666666665,\n",
       " -2.625,\n",
       " -2.5416666666666665,\n",
       " -2.375,\n",
       " -2.333333333333334,\n",
       " -2.3333333333333335,\n",
       " -2.333333333333333,\n",
       " -2.2916666666666665,\n",
       " -2.2727272727272725,\n",
       " -2.2,\n",
       " -1.875,\n",
       " -1.777777777777778,\n",
       " -1.625,\n",
       " -1.5,\n",
       " -1.4,\n",
       " -1.1428571428571428,\n",
       " -1.0,\n",
       " -0.875,\n",
       " -0.6666666666666666,\n",
       " -0.5624999999999999,\n",
       " -0.5333333333333333,\n",
       " -0.45454545454545453,\n",
       " -0.39344262295081966,\n",
       " -0.38095238095238093,\n",
       " -0.328125,\n",
       " -0.25,\n",
       " -0.23076923076923078,\n",
       " -0.20833333333333334,\n",
       " -0.1875,\n",
       " -0.125,\n",
       " -0.075,\n",
       " -0.04918032786885246,\n",
       " -0.041666666666666685,\n",
       " 0,\n",
       " 0.015625,\n",
       " 0.03409090909090909,\n",
       " 0.041666666666666685,\n",
       " 0.04477611940298507,\n",
       " 0.04918032786885246,\n",
       " 0.0625,\n",
       " 0.075,\n",
       " 0.09375,\n",
       " 0.1111111111111111,\n",
       " 0.125,\n",
       " 0.140625,\n",
       " 0.15789473684210525,\n",
       " 0.16666666666666666,\n",
       " 0.1875,\n",
       " 0.20833333333333334,\n",
       " 0.23076923076923078,\n",
       " 0.2424242424242424,\n",
       " 0.24242424242424243,\n",
       " 0.25,\n",
       " 0.28125,\n",
       " 0.2962962962962963,\n",
       " 0.328125,\n",
       " 0.3582089552238806,\n",
       " 0.375,\n",
       " 0.38095238095238093,\n",
       " 0.39344262295081966,\n",
       " 0.421875,\n",
       " 0.45454545454545453,\n",
       " 0.4583333333333333,\n",
       " 0.47058823529411764,\n",
       " 0.5333333333333333,\n",
       " 0.5624999999999999,\n",
       " 0.5625,\n",
       " 0.5714285714285714,\n",
       " 0.6666666666666666,\n",
       " 0.7083333333333333,\n",
       " 0.75,\n",
       " 0.875,\n",
       " 0.8888888888888888,\n",
       " 1.0,\n",
       " 1.125,\n",
       " 1.1428571428571428,\n",
       " 1.3333333333333333,\n",
       " 1.4,\n",
       " 1.411764705882353,\n",
       " 1.5,\n",
       " 1.625,\n",
       " 1.75,\n",
       " 1.7777777777777777,\n",
       " 1.777777777777778,\n",
       " 1.875,\n",
       " 2.0,\n",
       " 2.125,\n",
       " 2.1818181818181817,\n",
       " 2.181818181818182,\n",
       " 2.2,\n",
       " 2.2727272727272725,\n",
       " 2.2916666666666665,\n",
       " 2.333333333333333,\n",
       " 2.3333333333333335,\n",
       " 2.333333333333334,\n",
       " 2.3703703703703702,\n",
       " 2.375,\n",
       " 2.5416666666666665,\n",
       " 2.625,\n",
       " 2.6666666666666665,\n",
       " 2.666666666666668,\n",
       " 2.7916666666666665,\n",
       " 2.8125,\n",
       " 2.953125,\n",
       " 3,\n",
       " 3.0416666666666665,\n",
       " 3.046875,\n",
       " 3.0476190476190474,\n",
       " 3.1875,\n",
       " 3.3333333333333335,\n",
       " 3.375,\n",
       " 3.5555555555555554,\n",
       " 3.625,\n",
       " 3.7272727272727275,\n",
       " 4.0,\n",
       " 4.125,\n",
       " 4.333333333333333,\n",
       " 4.333333333333334,\n",
       " 4.375,\n",
       " 4.6,\n",
       " 4.625,\n",
       " 4.8,\n",
       " 4.800000000000001,\n",
       " 5.0,\n",
       " 5.333333333333333,\n",
       " 5.375,\n",
       " 6.0,\n",
       " 6.333333333333333,\n",
       " 6.666666666666667,\n",
       " 6.875,\n",
       " 7,\n",
       " 7.111111111111111,\n",
       " 7.25,\n",
       " 7.4,\n",
       " 7.666666666666666,\n",
       " 7.7272727272727275,\n",
       " 7.875,\n",
       " 8,\n",
       " 8.125,\n",
       " 8.272727272727273,\n",
       " 8.333333333333332,\n",
       " 8.333333333333334,\n",
       " 8.6,\n",
       " 8.75,\n",
       " 8.88888888888889,\n",
       " 9.0,\n",
       " 9.125,\n",
       " 9.333333333333334,\n",
       " 9.666666666666666,\n",
       " 10,\n",
       " 10.625,\n",
       " 10.666666666666666,\n",
       " 11.375,\n",
       " 11.666666666666666,\n",
       " 12.0,\n",
       " 13,\n",
       " 13.333333333333332,\n",
       " 13.333333333333334,\n",
       " 13.666666666666666,\n",
       " 15.0,\n",
       " 16,\n",
       " 17.0,\n",
       " 18.333333333333332,\n",
       " 19,\n",
       " 20.333333333333332,\n",
       " 21.0,\n",
       " 21.333333333333332,\n",
       " 22,\n",
       " 22.333333333333332,\n",
       " 22.875,\n",
       " 23,\n",
       " 23.625,\n",
       " 23.99999999999999,\n",
       " 24.333333333333332,\n",
       " 24.375,\n",
       " 25,\n",
       " 25.125,\n",
       " 26.666666666666668,\n",
       " 27.0,\n",
       " 29,\n",
       " 29.333333333333332,\n",
       " 29.333333333333336,\n",
       " 32.0,\n",
       " 35,\n",
       " 37,\n",
       " 39,\n",
       " 40,\n",
       " 41,\n",
       " 43,\n",
       " 45,\n",
       " 45.33333333333333,\n",
       " 48,\n",
       " 51,\n",
       " 55,\n",
       " 56.0,\n",
       " 57,\n",
       " 58,\n",
       " 63.0,\n",
       " 64.0,\n",
       " 65.0,\n",
       " 70,\n",
       " 72.0,\n",
       " 73,\n",
       " 80,\n",
       " 85,\n",
       " 91,\n",
       " 96,\n",
       " 112,\n",
       " 120,\n",
       " 121,\n",
       " 136,\n",
       " 144,\n",
       " 168,\n",
       " 183,\n",
       " 189,\n",
       " 195,\n",
       " 201,\n",
       " 216,\n",
       " 264,\n",
       " 384,\n",
       " 576]"
      ]
     },
     "execution_count": 106,
     "metadata": {},
     "output_type": "execute_result"
    }
   ],
   "source": [
    "a =four_num_results(8, 8, 3, 3)\n",
    "a.sort()\n",
    "a"
   ]
  },
  {
   "cell_type": "markdown",
   "id": "cc405854",
   "metadata": {},
   "source": [
    "### 函数测试"
   ]
  },
  {
   "cell_type": "code",
   "execution_count": 45,
   "id": "06870a9b",
   "metadata": {},
   "outputs": [
    {
     "data": {
      "text/html": [
       "<div>\n",
       "<style scoped>\n",
       "    .dataframe tbody tr th:only-of-type {\n",
       "        vertical-align: middle;\n",
       "    }\n",
       "\n",
       "    .dataframe tbody tr th {\n",
       "        vertical-align: top;\n",
       "    }\n",
       "\n",
       "    .dataframe thead th {\n",
       "        text-align: right;\n",
       "    }\n",
       "</style>\n",
       "<table border=\"1\" class=\"dataframe\">\n",
       "  <thead>\n",
       "    <tr style=\"text-align: right;\">\n",
       "      <th></th>\n",
       "      <th>spade</th>\n",
       "      <th>heart</th>\n",
       "      <th>diamond</th>\n",
       "      <th>club</th>\n",
       "    </tr>\n",
       "  </thead>\n",
       "  <tbody>\n",
       "    <tr>\n",
       "      <th>0</th>\n",
       "      <td>1</td>\n",
       "      <td>1</td>\n",
       "      <td>1</td>\n",
       "      <td>1</td>\n",
       "    </tr>\n",
       "    <tr>\n",
       "      <th>1</th>\n",
       "      <td>1</td>\n",
       "      <td>1</td>\n",
       "      <td>1</td>\n",
       "      <td>2</td>\n",
       "    </tr>\n",
       "    <tr>\n",
       "      <th>2</th>\n",
       "      <td>1</td>\n",
       "      <td>1</td>\n",
       "      <td>1</td>\n",
       "      <td>3</td>\n",
       "    </tr>\n",
       "    <tr>\n",
       "      <th>3</th>\n",
       "      <td>1</td>\n",
       "      <td>1</td>\n",
       "      <td>1</td>\n",
       "      <td>4</td>\n",
       "    </tr>\n",
       "    <tr>\n",
       "      <th>4</th>\n",
       "      <td>1</td>\n",
       "      <td>1</td>\n",
       "      <td>1</td>\n",
       "      <td>5</td>\n",
       "    </tr>\n",
       "  </tbody>\n",
       "</table>\n",
       "</div>"
      ],
      "text/plain": [
       "   spade  heart  diamond  club\n",
       "0      1      1        1     1\n",
       "1      1      1        1     2\n",
       "2      1      1        1     3\n",
       "3      1      1        1     4\n",
       "4      1      1        1     5"
      ]
     },
     "execution_count": 45,
     "metadata": {},
     "output_type": "execute_result"
    }
   ],
   "source": [
    "# 小范围测试\n",
    "df = comb_df[comb_df.index<=4]\n",
    "df"
   ]
  },
  {
   "cell_type": "code",
   "execution_count": 46,
   "id": "4e5e0d2a",
   "metadata": {},
   "outputs": [
    {
     "data": {
      "text/plain": [
       "0    [0, 1, 2, 0.5, 3, -0.5, 1.5, 0.333333333333333...\n",
       "1    [0.5, 1.5, -0.5, 2.5, 0.6666666666666666, 1.0,...\n",
       "2    [0.33333333333333326, 1.6666666666666667, -0.6...\n",
       "3    [0.25, 1.75, -0.75, -0.25, 2.25, 0.8, 1.25, 1....\n",
       "4    [0.19999999999999996, 1.8, -0.8, -0.1999999999...\n",
       "dtype: object"
      ]
     },
     "execution_count": 46,
     "metadata": {},
     "output_type": "execute_result"
    }
   ],
   "source": [
    "df.apply(lambda x: four_num_results(x['spade'], x['heart'], x['diamond'], x['club']), axis=1)"
   ]
  },
  {
   "cell_type": "markdown",
   "id": "ce3d6545",
   "metadata": {},
   "source": [
    "# 结果数据构建"
   ]
  },
  {
   "cell_type": "code",
   "execution_count": 47,
   "id": "dfe2b783",
   "metadata": {},
   "outputs": [
    {
     "data": {
      "text/html": [
       "<div>\n",
       "<style scoped>\n",
       "    .dataframe tbody tr th:only-of-type {\n",
       "        vertical-align: middle;\n",
       "    }\n",
       "\n",
       "    .dataframe tbody tr th {\n",
       "        vertical-align: top;\n",
       "    }\n",
       "\n",
       "    .dataframe thead th {\n",
       "        text-align: right;\n",
       "    }\n",
       "</style>\n",
       "<table border=\"1\" class=\"dataframe\">\n",
       "  <thead>\n",
       "    <tr style=\"text-align: right;\">\n",
       "      <th></th>\n",
       "      <th>spade</th>\n",
       "      <th>heart</th>\n",
       "      <th>diamond</th>\n",
       "      <th>club</th>\n",
       "      <th>result_space</th>\n",
       "    </tr>\n",
       "  </thead>\n",
       "  <tbody>\n",
       "    <tr>\n",
       "      <th>0</th>\n",
       "      <td>1</td>\n",
       "      <td>1</td>\n",
       "      <td>1</td>\n",
       "      <td>1</td>\n",
       "      <td>[0, 1, 2, 0.5, 3, -0.5, 1.5, 0.333333333333333...</td>\n",
       "    </tr>\n",
       "    <tr>\n",
       "      <th>1</th>\n",
       "      <td>1</td>\n",
       "      <td>1</td>\n",
       "      <td>1</td>\n",
       "      <td>2</td>\n",
       "      <td>[0.5, 1.5, -0.5, 2.5, 0.6666666666666666, 1.0,...</td>\n",
       "    </tr>\n",
       "    <tr>\n",
       "      <th>2</th>\n",
       "      <td>1</td>\n",
       "      <td>1</td>\n",
       "      <td>1</td>\n",
       "      <td>3</td>\n",
       "      <td>[0.33333333333333326, 1.6666666666666667, -0.6...</td>\n",
       "    </tr>\n",
       "    <tr>\n",
       "      <th>3</th>\n",
       "      <td>1</td>\n",
       "      <td>1</td>\n",
       "      <td>1</td>\n",
       "      <td>4</td>\n",
       "      <td>[0.25, 1.75, -0.75, -0.25, 2.25, 0.8, 1.25, 1....</td>\n",
       "    </tr>\n",
       "    <tr>\n",
       "      <th>4</th>\n",
       "      <td>1</td>\n",
       "      <td>1</td>\n",
       "      <td>1</td>\n",
       "      <td>5</td>\n",
       "      <td>[0.19999999999999996, 1.8, -0.8, -0.1999999999...</td>\n",
       "    </tr>\n",
       "  </tbody>\n",
       "</table>\n",
       "</div>"
      ],
      "text/plain": [
       "   spade  heart  diamond  club  \\\n",
       "0      1      1        1     1   \n",
       "1      1      1        1     2   \n",
       "2      1      1        1     3   \n",
       "3      1      1        1     4   \n",
       "4      1      1        1     5   \n",
       "\n",
       "                                        result_space  \n",
       "0  [0, 1, 2, 0.5, 3, -0.5, 1.5, 0.333333333333333...  \n",
       "1  [0.5, 1.5, -0.5, 2.5, 0.6666666666666666, 1.0,...  \n",
       "2  [0.33333333333333326, 1.6666666666666667, -0.6...  \n",
       "3  [0.25, 1.75, -0.75, -0.25, 2.25, 0.8, 1.25, 1....  \n",
       "4  [0.19999999999999996, 1.8, -0.8, -0.1999999999...  "
      ]
     },
     "execution_count": 47,
     "metadata": {},
     "output_type": "execute_result"
    }
   ],
   "source": [
    "# 构建结果空间\n",
    "comb_df['result_space'] = comb_df.apply(lambda x: four_num_results(x['spade'], x['heart'], x['diamond'], x['club']), axis=1)\n",
    "comb_df.head()"
   ]
  },
  {
   "cell_type": "markdown",
   "id": "d281c60d",
   "metadata": {},
   "source": [
    "### 结果分析"
   ]
  },
  {
   "cell_type": "code",
   "execution_count": 117,
   "id": "aa297c62",
   "metadata": {},
   "outputs": [],
   "source": [
    "# 结果空间中中是否有24?\n",
    "def error(num_list, target=24, error = 1/1000000):\n",
    "    '''检查结果中是否有24，由于浮点数的-尾巴问题，设定一个error来检查。\n",
    "    '''\n",
    "    result = [1 if abs(num - target)<error else 0 for num in num_list]\n",
    "    result = sum(result)\n",
    "    return result"
   ]
  },
  {
   "cell_type": "code",
   "execution_count": 49,
   "id": "761ef058",
   "metadata": {},
   "outputs": [
    {
     "data": {
      "text/html": [
       "<div>\n",
       "<style scoped>\n",
       "    .dataframe tbody tr th:only-of-type {\n",
       "        vertical-align: middle;\n",
       "    }\n",
       "\n",
       "    .dataframe tbody tr th {\n",
       "        vertical-align: top;\n",
       "    }\n",
       "\n",
       "    .dataframe thead th {\n",
       "        text-align: right;\n",
       "    }\n",
       "</style>\n",
       "<table border=\"1\" class=\"dataframe\">\n",
       "  <thead>\n",
       "    <tr style=\"text-align: right;\">\n",
       "      <th></th>\n",
       "      <th>spade</th>\n",
       "      <th>heart</th>\n",
       "      <th>diamond</th>\n",
       "      <th>club</th>\n",
       "      <th>result_space</th>\n",
       "      <th>result</th>\n",
       "    </tr>\n",
       "  </thead>\n",
       "  <tbody>\n",
       "    <tr>\n",
       "      <th>0</th>\n",
       "      <td>1</td>\n",
       "      <td>1</td>\n",
       "      <td>1</td>\n",
       "      <td>1</td>\n",
       "      <td>[0, 1, 2, 0.5, 3, -0.5, 1.5, 0.333333333333333...</td>\n",
       "      <td>0</td>\n",
       "    </tr>\n",
       "    <tr>\n",
       "      <th>1</th>\n",
       "      <td>1</td>\n",
       "      <td>1</td>\n",
       "      <td>1</td>\n",
       "      <td>2</td>\n",
       "      <td>[0.5, 1.5, -0.5, 2.5, 0.6666666666666666, 1.0,...</td>\n",
       "      <td>0</td>\n",
       "    </tr>\n",
       "    <tr>\n",
       "      <th>2</th>\n",
       "      <td>1</td>\n",
       "      <td>1</td>\n",
       "      <td>1</td>\n",
       "      <td>3</td>\n",
       "      <td>[0.33333333333333326, 1.6666666666666667, -0.6...</td>\n",
       "      <td>0</td>\n",
       "    </tr>\n",
       "    <tr>\n",
       "      <th>3</th>\n",
       "      <td>1</td>\n",
       "      <td>1</td>\n",
       "      <td>1</td>\n",
       "      <td>4</td>\n",
       "      <td>[0.25, 1.75, -0.75, -0.25, 2.25, 0.8, 1.25, 1....</td>\n",
       "      <td>0</td>\n",
       "    </tr>\n",
       "    <tr>\n",
       "      <th>4</th>\n",
       "      <td>1</td>\n",
       "      <td>1</td>\n",
       "      <td>1</td>\n",
       "      <td>5</td>\n",
       "      <td>[0.19999999999999996, 1.8, -0.8, -0.1999999999...</td>\n",
       "      <td>0</td>\n",
       "    </tr>\n",
       "  </tbody>\n",
       "</table>\n",
       "</div>"
      ],
      "text/plain": [
       "   spade  heart  diamond  club  \\\n",
       "0      1      1        1     1   \n",
       "1      1      1        1     2   \n",
       "2      1      1        1     3   \n",
       "3      1      1        1     4   \n",
       "4      1      1        1     5   \n",
       "\n",
       "                                        result_space  result  \n",
       "0  [0, 1, 2, 0.5, 3, -0.5, 1.5, 0.333333333333333...       0  \n",
       "1  [0.5, 1.5, -0.5, 2.5, 0.6666666666666666, 1.0,...       0  \n",
       "2  [0.33333333333333326, 1.6666666666666667, -0.6...       0  \n",
       "3  [0.25, 1.75, -0.75, -0.25, 2.25, 0.8, 1.25, 1....       0  \n",
       "4  [0.19999999999999996, 1.8, -0.8, -0.1999999999...       0  "
      ]
     },
     "execution_count": 49,
     "metadata": {},
     "output_type": "execute_result"
    }
   ],
   "source": [
    "# 结果空间\n",
    "comb_df['result'] = comb_df['result_space'].apply(lambda x: error(x, 24, 1/1000000))\n",
    "comb_df['result'] = np.where(comb_df['result']>0, 1, 0)\n",
    "comb_df.head()"
   ]
  },
  {
   "cell_type": "code",
   "execution_count": 111,
   "id": "456ac86c",
   "metadata": {},
   "outputs": [
    {
     "data": {
      "text/html": [
       "<div>\n",
       "<style scoped>\n",
       "    .dataframe tbody tr th:only-of-type {\n",
       "        vertical-align: middle;\n",
       "    }\n",
       "\n",
       "    .dataframe tbody tr th {\n",
       "        vertical-align: top;\n",
       "    }\n",
       "\n",
       "    .dataframe thead th {\n",
       "        text-align: right;\n",
       "    }\n",
       "</style>\n",
       "<table border=\"1\" class=\"dataframe\">\n",
       "  <thead>\n",
       "    <tr style=\"text-align: right;\">\n",
       "      <th></th>\n",
       "      <th>spade</th>\n",
       "      <th>heart</th>\n",
       "      <th>diamond</th>\n",
       "      <th>club</th>\n",
       "      <th>result_space</th>\n",
       "      <th>result</th>\n",
       "      <th>combination</th>\n",
       "    </tr>\n",
       "  </thead>\n",
       "  <tbody>\n",
       "    <tr>\n",
       "      <th>4830</th>\n",
       "      <td>3</td>\n",
       "      <td>3</td>\n",
       "      <td>8</td>\n",
       "      <td>8</td>\n",
       "      <td>[0.5625, 0.0625, 2.8125, 3.1875, 0, 3, 0.14062...</td>\n",
       "      <td>1</td>\n",
       "      <td>[3, 3, 8, 8]</td>\n",
       "    </tr>\n",
       "  </tbody>\n",
       "</table>\n",
       "</div>"
      ],
      "text/plain": [
       "      spade  heart  diamond  club  \\\n",
       "4830      3      3        8     8   \n",
       "\n",
       "                                           result_space  result   combination  \n",
       "4830  [0.5625, 0.0625, 2.8125, 3.1875, 0, 3, 0.14062...       1  [3, 3, 8, 8]  "
      ]
     },
     "execution_count": 111,
     "metadata": {},
     "output_type": "execute_result"
    }
   ],
   "source": [
    "comb_df[(comb_df['spade']==3)&(comb_df['heart']==3)&(comb_df['diamond']==8)&(comb_df['club']==8)]"
   ]
  },
  {
   "cell_type": "code",
   "execution_count": 51,
   "id": "7c0c77c3",
   "metadata": {},
   "outputs": [],
   "source": [
    "# 将列表元素排序，不考虑花色后的去重。\n",
    "def sort_num_list(num_a, num_b, num_c, num_d):\n",
    "    a = [num_a, num_b, num_c, num_d]\n",
    "    a.sort()    # 就地排序\n",
    "    return a"
   ]
  },
  {
   "cell_type": "code",
   "execution_count": 52,
   "id": "4c9050b5",
   "metadata": {},
   "outputs": [
    {
     "data": {
      "text/html": [
       "<div>\n",
       "<style scoped>\n",
       "    .dataframe tbody tr th:only-of-type {\n",
       "        vertical-align: middle;\n",
       "    }\n",
       "\n",
       "    .dataframe tbody tr th {\n",
       "        vertical-align: top;\n",
       "    }\n",
       "\n",
       "    .dataframe thead th {\n",
       "        text-align: right;\n",
       "    }\n",
       "</style>\n",
       "<table border=\"1\" class=\"dataframe\">\n",
       "  <thead>\n",
       "    <tr style=\"text-align: right;\">\n",
       "      <th></th>\n",
       "      <th>spade</th>\n",
       "      <th>heart</th>\n",
       "      <th>diamond</th>\n",
       "      <th>club</th>\n",
       "      <th>result_space</th>\n",
       "      <th>result</th>\n",
       "      <th>combination</th>\n",
       "    </tr>\n",
       "  </thead>\n",
       "  <tbody>\n",
       "    <tr>\n",
       "      <th>0</th>\n",
       "      <td>1</td>\n",
       "      <td>1</td>\n",
       "      <td>1</td>\n",
       "      <td>1</td>\n",
       "      <td>[0, 1, 2, 0.5, 3, -0.5, 1.5, 0.333333333333333...</td>\n",
       "      <td>0</td>\n",
       "      <td>[1, 1, 1, 1]</td>\n",
       "    </tr>\n",
       "    <tr>\n",
       "      <th>1</th>\n",
       "      <td>1</td>\n",
       "      <td>1</td>\n",
       "      <td>1</td>\n",
       "      <td>2</td>\n",
       "      <td>[0.5, 1.5, -0.5, 2.5, 0.6666666666666666, 1.0,...</td>\n",
       "      <td>0</td>\n",
       "      <td>[1, 1, 1, 2]</td>\n",
       "    </tr>\n",
       "    <tr>\n",
       "      <th>2</th>\n",
       "      <td>1</td>\n",
       "      <td>1</td>\n",
       "      <td>1</td>\n",
       "      <td>3</td>\n",
       "      <td>[0.33333333333333326, 1.6666666666666667, -0.6...</td>\n",
       "      <td>0</td>\n",
       "      <td>[1, 1, 1, 3]</td>\n",
       "    </tr>\n",
       "    <tr>\n",
       "      <th>3</th>\n",
       "      <td>1</td>\n",
       "      <td>1</td>\n",
       "      <td>1</td>\n",
       "      <td>4</td>\n",
       "      <td>[0.25, 1.75, -0.75, -0.25, 2.25, 0.8, 1.25, 1....</td>\n",
       "      <td>0</td>\n",
       "      <td>[1, 1, 1, 4]</td>\n",
       "    </tr>\n",
       "    <tr>\n",
       "      <th>4</th>\n",
       "      <td>1</td>\n",
       "      <td>1</td>\n",
       "      <td>1</td>\n",
       "      <td>5</td>\n",
       "      <td>[0.19999999999999996, 1.8, -0.8, -0.1999999999...</td>\n",
       "      <td>0</td>\n",
       "      <td>[1, 1, 1, 5]</td>\n",
       "    </tr>\n",
       "  </tbody>\n",
       "</table>\n",
       "</div>"
      ],
      "text/plain": [
       "   spade  heart  diamond  club  \\\n",
       "0      1      1        1     1   \n",
       "1      1      1        1     2   \n",
       "2      1      1        1     3   \n",
       "3      1      1        1     4   \n",
       "4      1      1        1     5   \n",
       "\n",
       "                                        result_space  result   combination  \n",
       "0  [0, 1, 2, 0.5, 3, -0.5, 1.5, 0.333333333333333...       0  [1, 1, 1, 1]  \n",
       "1  [0.5, 1.5, -0.5, 2.5, 0.6666666666666666, 1.0,...       0  [1, 1, 1, 2]  \n",
       "2  [0.33333333333333326, 1.6666666666666667, -0.6...       0  [1, 1, 1, 3]  \n",
       "3  [0.25, 1.75, -0.75, -0.25, 2.25, 0.8, 1.25, 1....       0  [1, 1, 1, 4]  \n",
       "4  [0.19999999999999996, 1.8, -0.8, -0.1999999999...       0  [1, 1, 1, 5]  "
      ]
     },
     "execution_count": 52,
     "metadata": {},
     "output_type": "execute_result"
    }
   ],
   "source": [
    "# 将组合排序，方便后续去重\n",
    "comb_df['combination'] = comb_df.apply(lambda x: sort_num_list(x['spade'], x['heart'], x['diamond'], x['club']), axis=1)\n",
    "comb_df.head()"
   ]
  },
  {
   "cell_type": "markdown",
   "id": "39ff2f7a",
   "metadata": {},
   "source": [
    "## Q：有多少种出牌可能？有多少种出牌点数组合？"
   ]
  },
  {
   "cell_type": "code",
   "execution_count": 64,
   "id": "ec8d7f49",
   "metadata": {},
   "outputs": [
    {
     "name": "stdout",
     "output_type": "stream",
     "text": [
      "一共有28561种出牌可能！1820种点数组合！\n",
      "考虑不同花色组合，24点的牌型组合数：22615; 构成比例：79.18%\n",
      "不考虑不同花色组合，24点的点数组合数：1362\n"
     ]
    }
   ],
   "source": [
    "# 出牌组合数目\n",
    "cards_num = comb_df.shape[0]\n",
    "points_num = comb_df['combination'].value_counts().shape[0]  # 点数组合数量\n",
    "\n",
    "# 能计算24点牌型\n",
    "target_df = comb_df[comb_df['result']>=1]\n",
    "\n",
    "cards_hits = target_df['result'].sum()                                 # 牌型组合数量\n",
    "points_hits = target_df['combination'].value_counts().shape[0]  # 点数组合数量\n",
    "\n",
    "print(f'一共有{cards_num}种出牌可能！{points_num}种点数组合！')\n",
    "print(f'考虑不同花色组合，24点的牌型组合数：{cards_hits}; 构成比例：{cards_hits/cards_num*100:.4}%')\n",
    "print(f'不考虑不同花色组合，24点的点数组合数：{points_hits}')"
   ]
  },
  {
   "cell_type": "markdown",
   "id": "64aa4b5c",
   "metadata": {},
   "source": [
    "## Q: 最可能的点数组合?"
   ]
  },
  {
   "cell_type": "code",
   "execution_count": 65,
   "id": "6d93d454",
   "metadata": {},
   "outputs": [
    {
     "data": {
      "text/html": [
       "<div>\n",
       "<style scoped>\n",
       "    .dataframe tbody tr th:only-of-type {\n",
       "        vertical-align: middle;\n",
       "    }\n",
       "\n",
       "    .dataframe tbody tr th {\n",
       "        vertical-align: top;\n",
       "    }\n",
       "\n",
       "    .dataframe thead th {\n",
       "        text-align: right;\n",
       "    }\n",
       "</style>\n",
       "<table border=\"1\" class=\"dataframe\">\n",
       "  <thead>\n",
       "    <tr style=\"text-align: right;\">\n",
       "      <th></th>\n",
       "      <th>combination</th>\n",
       "      <th>count</th>\n",
       "    </tr>\n",
       "  </thead>\n",
       "  <tbody>\n",
       "    <tr>\n",
       "      <th>0</th>\n",
       "      <td>[2, 3, 4, 6]</td>\n",
       "      <td>24</td>\n",
       "    </tr>\n",
       "    <tr>\n",
       "      <th>1</th>\n",
       "      <td>[4, 7, 8, 9]</td>\n",
       "      <td>24</td>\n",
       "    </tr>\n",
       "    <tr>\n",
       "      <th>2</th>\n",
       "      <td>[2, 4, 9, 12]</td>\n",
       "      <td>24</td>\n",
       "    </tr>\n",
       "    <tr>\n",
       "      <th>3</th>\n",
       "      <td>[2, 4, 9, 13]</td>\n",
       "      <td>24</td>\n",
       "    </tr>\n",
       "    <tr>\n",
       "      <th>4</th>\n",
       "      <td>[4, 7, 8, 11]</td>\n",
       "      <td>24</td>\n",
       "    </tr>\n",
       "    <tr>\n",
       "      <th>...</th>\n",
       "      <td>...</td>\n",
       "      <td>...</td>\n",
       "    </tr>\n",
       "    <tr>\n",
       "      <th>602</th>\n",
       "      <td>[1, 6, 8, 11]</td>\n",
       "      <td>24</td>\n",
       "    </tr>\n",
       "    <tr>\n",
       "      <th>603</th>\n",
       "      <td>[1, 6, 8, 9]</td>\n",
       "      <td>24</td>\n",
       "    </tr>\n",
       "    <tr>\n",
       "      <th>604</th>\n",
       "      <td>[6, 8, 11, 13]</td>\n",
       "      <td>24</td>\n",
       "    </tr>\n",
       "    <tr>\n",
       "      <th>605</th>\n",
       "      <td>[1, 6, 8, 12]</td>\n",
       "      <td>24</td>\n",
       "    </tr>\n",
       "    <tr>\n",
       "      <th>606</th>\n",
       "      <td>[1, 6, 8, 10]</td>\n",
       "      <td>24</td>\n",
       "    </tr>\n",
       "  </tbody>\n",
       "</table>\n",
       "<p>607 rows × 2 columns</p>\n",
       "</div>"
      ],
      "text/plain": [
       "        combination  count\n",
       "0      [2, 3, 4, 6]     24\n",
       "1      [4, 7, 8, 9]     24\n",
       "2     [2, 4, 9, 12]     24\n",
       "3     [2, 4, 9, 13]     24\n",
       "4     [4, 7, 8, 11]     24\n",
       "..              ...    ...\n",
       "602   [1, 6, 8, 11]     24\n",
       "603    [1, 6, 8, 9]     24\n",
       "604  [6, 8, 11, 13]     24\n",
       "605   [1, 6, 8, 12]     24\n",
       "606   [1, 6, 8, 10]     24\n",
       "\n",
       "[607 rows x 2 columns]"
      ]
     },
     "execution_count": 65,
     "metadata": {},
     "output_type": "execute_result"
    }
   ],
   "source": [
    "most_result = pd.DataFrame(target_df['combination'].value_counts())\n",
    "most_result.reset_index(inplace=True)\n",
    "\n",
    "most_result = most_result[most_result['count']==most_result['count'].max()]\n",
    "most_result"
   ]
  },
  {
   "cell_type": "code",
   "execution_count": 67,
   "id": "e7d0efc8",
   "metadata": {},
   "outputs": [
    {
     "data": {
      "text/plain": [
       "24"
      ]
     },
     "execution_count": 67,
     "metadata": {},
     "output_type": "execute_result"
    }
   ],
   "source": [
    "most_result['count'].max()"
   ]
  },
  {
   "cell_type": "code",
   "execution_count": 72,
   "id": "b6ad1f71",
   "metadata": {},
   "outputs": [
    {
     "name": "stdout",
     "output_type": "stream",
     "text": [
      "607种点数组合,均有24种计算过程，均可以计算得到24！\n"
     ]
    }
   ],
   "source": [
    "print(f\"\"\"{most_result.shape[0]}种点数组合,均有{most_result['count'].max()}种计算过程，均可以计算得到24！\"\"\")"
   ]
  },
  {
   "cell_type": "markdown",
   "id": "cab02dd8",
   "metadata": {},
   "source": [
    "# 输入牌型提供计算过程\n",
    "> 输入4张牌的点数，给出一种计算过程"
   ]
  },
  {
   "cell_type": "code",
   "execution_count": 126,
   "id": "ef2da2fc",
   "metadata": {},
   "outputs": [],
   "source": [
    "def calculate_mode(num_a, num_b, num_c, num_d, oper):\n",
    "    '''固定oper顺序，组合数据的出现顺序。\n",
    "    '''\n",
    "    num_list = [num_a, num_b, num_c, num_d]\n",
    "    num_permutations_combinations = list(itertools.permutations(num_list))\n",
    "    \n",
    "    result_txt = []\n",
    "    # 模式1:2+1+1    Q:模式有残缺\n",
    "    for nums in num_permutations_combinations:\n",
    "        result_1 = calculator(nums[0], nums[1], oper[0])\n",
    "        result_2 = calculator(result_1, nums[2], oper[1])\n",
    "        result = calculator(result_2, nums[3], oper[2])\n",
    "        if abs(result-24)<1e-10:\n",
    "            result_txt.append(\n",
    "                f\"计算过程：(({nums[0]} {oper[0]} {nums[1]}) {oper[1]} {nums[2]}){oper[2]} {nums[3]}=24\"\n",
    "                )\n",
    "    # 模式2:2+2\n",
    "    for nums in num_permutations_combinations:\n",
    "        result_1 = calculator(nums[0], nums[1], oper[0])\n",
    "        result_2 = calculator(nums[2], nums[3], oper[2])\n",
    "        result = calculator(result_1, result_2, oper[1])\n",
    "        if abs(result-24)<1e-10:\n",
    "            result_txt.append(\n",
    "                f\"计算过程：({nums[0]} {oper[0]} {nums[1]}) {oper[1]} ({nums[2]}{oper[2]} {nums[3]})=24\"\n",
    "                )\n",
    "    return result_txt"
   ]
  },
  {
   "cell_type": "code",
   "execution_count": 128,
   "id": "b479e822",
   "metadata": {},
   "outputs": [
    {
     "name": "stdout",
     "output_type": "stream",
     "text": [
      "(3, 3, 8, 8)\n",
      "(3, 3, 8, 8)\n",
      "(3, 8, 3, 8)\n",
      "(3, 8, 8, 3)\n",
      "(3, 8, 3, 8)\n",
      "(3, 8, 8, 3)\n",
      "(3, 3, 8, 8)\n",
      "(3, 3, 8, 8)\n",
      "(3, 8, 3, 8)\n",
      "(3, 8, 8, 3)\n",
      "(3, 8, 3, 8)\n",
      "(3, 8, 8, 3)\n",
      "(8, 3, 3, 8)\n",
      "(8, 3, 8, 3)\n",
      "(8, 3, 3, 8)\n",
      "(8, 3, 8, 3)\n",
      "(8, 8, 3, 3)\n",
      "(8, 8, 3, 3)\n",
      "(8, 3, 3, 8)\n",
      "(8, 3, 8, 3)\n",
      "(8, 3, 3, 8)\n",
      "(8, 3, 8, 3)\n",
      "(8, 8, 3, 3)\n",
      "(8, 8, 3, 3)\n"
     ]
    }
   ],
   "source": [
    "nums = [8,3,3,8]\n",
    "result_1 = calculator(nums[0], nums[1], '/')\n",
    "reuslt_2 = calculator(result_1, nums[2], oper[1])"
   ]
  },
  {
   "cell_type": "code",
   "execution_count": null,
   "id": "f085c5e9",
   "metadata": {},
   "outputs": [],
   "source": []
  },
  {
   "cell_type": "code",
   "execution_count": 121,
   "id": "feaedf02",
   "metadata": {},
   "outputs": [],
   "source": [
    "def calculate_oper(num_a, num_b, num_c, num_d):\n",
    "    oper_list = ['+', '-', '*', '/']\n",
    "    oper_combinations = list(itertools.product(oper_list, oper_list, oper_list))\n",
    "    \n",
    "    solution_cnt =0\n",
    "    result_txt = []\n",
    "    \n",
    "    for oper in oper_combinations:\n",
    "        try:\n",
    "            result_txt = result_txt + calculate_mode(num_a, num_b, num_c, num_d, oper)\n",
    "        except:\n",
    "            result_txt\n",
    "        \n",
    "    return result_txt"
   ]
  },
  {
   "cell_type": "code",
   "execution_count": 122,
   "id": "f3753367",
   "metadata": {},
   "outputs": [],
   "source": [
    "def display_calculate_process(num_list):\n",
    "    if len(num_list) !=4:\n",
    "        print('没有4张牌，不满足条件')\n",
    "    else:\n",
    "        results = four_num_results(num_list[0], num_list[1], num_list[2], num_list[3])\n",
    "        test = error(results, target=24, error = 1e-10)\n",
    "        if test:\n",
    "            result_txt = calculate_oper(num_list[0], num_list[1], num_list[2], num_list[3])\n",
    "            result_txt = list(set(result_txt))\n",
    "            print('-'*40)\n",
    "            print('计算过程如下：')\n",
    "            print('-'*40)\n",
    "            for i in range(len(result_txt)):\n",
    "                print(f'第{i+1}种-', result_txt[i])\n",
    "        else:\n",
    "            print('结果空间，不包含24！')"
   ]
  },
  {
   "cell_type": "code",
   "execution_count": 123,
   "id": "2eaeeb40",
   "metadata": {},
   "outputs": [
    {
     "name": "stdout",
     "output_type": "stream",
     "text": [
      "----------------------------------------\n",
      "计算过程如下：\n",
      "----------------------------------------\n"
     ]
    }
   ],
   "source": [
    "display_calculate_process([3, 3, 8, 8])"
   ]
  },
  {
   "cell_type": "code",
   "execution_count": 124,
   "id": "7ff8c6ac",
   "metadata": {},
   "outputs": [
    {
     "name": "stdout",
     "output_type": "stream",
     "text": [
      "----------------------------------------\n",
      "计算过程如下：\n",
      "----------------------------------------\n"
     ]
    }
   ],
   "source": [
    "display_calculate_process([3, 3, 8, 8])"
   ]
  },
  {
   "cell_type": "code",
   "execution_count": 125,
   "id": "4ba46cd4",
   "metadata": {},
   "outputs": [
    {
     "data": {
      "text/plain": [
       "[]"
      ]
     },
     "execution_count": 125,
     "metadata": {},
     "output_type": "execute_result"
    }
   ],
   "source": [
    "calculate_mode(3, 8, 8, 3,['-', '/', '/'])"
   ]
  },
  {
   "cell_type": "markdown",
   "id": "4faa8a47",
   "metadata": {},
   "source": [
    "# 方法改进\n",
    "## 用迭代器改造"
   ]
  },
  {
   "cell_type": "code",
   "execution_count": 97,
   "id": "92f3e8cf",
   "metadata": {},
   "outputs": [],
   "source": [
    "import itertools\n",
    "\n",
    "def tweentyfour(cards):\n",
    "    for nums in itertools.permutations(cards):\n",
    "        for ops in itertools.product('+-*/', repeat=3):\n",
    "            model_1 = '({0}{4}{1}){5}({2}{6}{3})'.format(*nums, *ops)\n",
    "            model_2 = '(({0}{4}{1}){5}{2}){6}{3}'.format(*nums, *ops)\n",
    "            model_3 = '{0}{4}({1}{5}({2}{6}{3}))'.format(*nums, *ops)\n",
    "            \n",
    "            for model in [model_1, model_2, model_3]:\n",
    "                try:\n",
    "                    if abs(eval(model)-24.0)<1e-10:\n",
    "                        return model\n",
    "                except ZeroDivisionError:\n",
    "                    continue"
   ]
  },
  {
   "cell_type": "code",
   "execution_count": 127,
   "id": "88b4791f",
   "metadata": {},
   "outputs": [
    {
     "data": {
      "text/plain": [
       "'8/(3-(8/3))'"
      ]
     },
     "execution_count": 127,
     "metadata": {},
     "output_type": "execute_result"
    }
   ],
   "source": [
    "cards = [3,3,8,8]\n",
    "tweentyfour(cards)"
   ]
  },
  {
   "cell_type": "markdown",
   "id": "8554832d",
   "metadata": {},
   "source": [
    "## 一种方法"
   ]
  },
  {
   "cell_type": "markdown",
   "id": "9b35835c",
   "metadata": {},
   "source": [
    "# 策略\n",
    "## 记住最可能的点数组合；\n",
    "- AABB型的牌型\n",
    "- AA需要匹配的牌型"
   ]
  },
  {
   "cell_type": "markdown",
   "id": "05114786",
   "metadata": {},
   "source": [
    "## 先计算手上两张牌的结果空间\n",
    "先计算准备出牌的两张牌的可能空间，出牌后去匹配对手的肯能性；"
   ]
  },
  {
   "cell_type": "code",
   "execution_count": 83,
   "id": "d9567722",
   "metadata": {},
   "outputs": [],
   "source": [
    "import seaborn as sns"
   ]
  },
  {
   "cell_type": "code",
   "execution_count": 85,
   "id": "3d1bdf06",
   "metadata": {},
   "outputs": [
    {
     "data": {
      "image/png": "[encoded data removed]",
      "text/plain": [
       "<Figure size 640x480 with 1 Axes>"
      ]
     },
     "metadata": {},
     "output_type": "display_data"
    }
   ],
   "source": [
    "mycard_1 = np.arange(1, 14)\n",
    "mycard_2 = np.arange(1, 14)\n",
    "\n",
    "result_2_space = two_list_results(mycard_1, mycard_2)\n",
    "sns.histplot(result_2_space);"
   ]
  },
  {
   "cell_type": "code",
   "execution_count": null,
   "id": "5811dfb5",
   "metadata": {},
   "outputs": [],
   "source": []
  }
 ],
 "metadata": {
  "kernelspec": {
   "display_name": "Python 3 (ipykernel)",
   "language": "python",
   "name": "python3"
  },
  "language_info": {
   "codemirror_mode": {
    "name": "ipython",
    "version": 3
   },
   "file_extension": ".py",
   "mimetype": "text/x-python",
   "name": "python",
   "nbconvert_exporter": "python",
   "pygments_lexer": "ipython3",
   "version": "3.11.5"
  },
  "toc": {
   "base_numbering": 1,
   "nav_menu": {},
   "number_sections": true,
   "sideBar": true,
   "skip_h1_title": false,
   "title_cell": "Table of Contents",
   "title_sidebar": "Contents",
   "toc_cell": false,
   "toc_position": {},
   "toc_section_display": true,
   "toc_window_display": true
  }
 },
 "nbformat": 4,
 "nbformat_minor": 5
}
