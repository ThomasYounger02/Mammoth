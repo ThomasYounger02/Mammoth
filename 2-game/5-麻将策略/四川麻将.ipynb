{
 "cells": [
  {
   "cell_type": "markdown",
   "id": "b4feae70",
   "metadata": {},
   "source": [
    "# 四川麻将\n",
    "四位玩家，通过对麻将的组合，最终确认胜负。\n",
    "- 麻将分为3种花色（万筒条），每种花色有1～9点的牌，每个点数4张相同的牌。合计3*9*4=**108张牌**；\n",
    "- 上家：左手边玩家；\n",
    "- 下家：右手边玩家；\n",
    "- 对门：对方玩家\n",
    "## 基本信息\n",
    "`牌区`\n",
    "- 公牌区：待摸牌所在的区域；\n",
    "- 手牌区：玩家手牌区；\n",
    "- 碰杠区：碰牌、杠排所在区域；\n",
    "\n",
    "## 游戏过程\n",
    "### 准备阶段\n",
    "- 4方：4位玩家分别坐在桌子的4边；\n",
    "- 庄家：一位玩家为庄家，其余为闲家；庄家编号为1，顺时针依次为2、3、4号玩家；\n",
    "- 骰子：两枚骰子，庄家投骰子，确定点数；\n",
    "- 点数：2～12；\n",
    "\n",
    "### 码牌阶段\n",
    "- 换三张；\n",
    "- 定张；\n",
    "\n",
    "### 摸牌阶段\n",
    "### 出牌阶段\n",
    "- 定张：每位玩家倒扣一张牌，确定`缺一门`花色。最终胡牌不得修改定张的花色。\n",
    "- 庄家出第一张牌，玩家依次逆时针摸牌和出牌。\n",
    "- 碰：match a triplet\n",
    "- 杠：quadruplet\n",
    "- 胡：clain a win\n",
    "### 结束阶段\n",
    "- **结束规则1**: 有3位玩家完成胡牌，牌局立即结束，并进入结算阶段；\n",
    "- **结束规则2**: 没有剩余牌；\n",
    "\n",
    "### 结算阶段\n",
    "- 按照胡牌牌型，结算各玩家的收益；\n",
    "- 进入下轮游戏；\n",
    "\n",
    "## 牌型要求\n",
    "`缺一门`\n",
    "- 每位玩家胡牌时，手牌只能包含两种花色；\n",
    "\n",
    "## 结算规则\n",
    "`刮风下雨`\n",
    "- 明杠：\n",
    "- 暗杠：\n",
    "\n",
    "`血战到底`\n",
    "- 胡牌玩家，不再参与摸牌和出牌。剩余玩家继续游戏，直至游戏结束。\n",
    "\n",
    "`血流成河`\n",
    "- 胡牌玩家，依然享受后续玩家出牌过程造成的“和牌”。\n",
    "\n",
    "`3翻封顶`\n",
    "- 设定一个底池金额，除刮风下雨，每位玩家胡牌结时，向每位被结算玩家最多收取底池8倍（2的3次方）的金额；\n",
    "\n",
    "## 翻数设定\n",
    "- 平胡：翻数+0，\n",
    "- 清一色：\n",
    "- 一条龙：\n",
    "- 龙七对：\n",
    "- 对对胡：\n",
    "- 杠上花：\n",
    "- 海底捞月：\n",
    "- 天胡：\n",
    "- 卡心五：\n",
    "- 缺19:"
   ]
  },
  {
   "cell_type": "code",
   "execution_count": 1,
   "id": "427c2fed",
   "metadata": {},
   "outputs": [],
   "source": [
    "import pandas as pd\n",
    "import numpy as np\n",
    "import itertools"
   ]
  },
  {
   "cell_type": "markdown",
   "id": "e85e8f32",
   "metadata": {},
   "source": [
    "# 构建一副牌"
   ]
  },
  {
   "cell_type": "code",
   "execution_count": 28,
   "id": "1e5150cc",
   "metadata": {},
   "outputs": [],
   "source": [
    "kinds = ['Bamboo', 'Character', 'Dot']    # Bamboo, Characters, Dots\n",
    "points = np.arange(1, 10)\n",
    "serial_no = [1, 2, 3, 4]\n",
    "\n",
    "tiles = itertools.product(kinds, points, serial_no)\n",
    "\n",
    "suits_info = dict()\n",
    "for tile in tiles:\n",
    "    suit_name = tile[0]+'_0'+str(tile[1])+'_0'+str(tile[2])\n",
    "    suits_info[suit_name] = {\n",
    "        'kind': tile[0],\n",
    "        'point': tile[1],\n",
    "        'sn': tile[2]\n",
    "        }"
   ]
  },
  {
   "cell_type": "code",
   "execution_count": 29,
   "id": "f49395ee",
   "metadata": {},
   "outputs": [
    {
     "data": {
      "text/plain": [
       "108"
      ]
     },
     "execution_count": 29,
     "metadata": {},
     "output_type": "execute_result"
    }
   ],
   "source": [
    "len(suits_info)"
   ]
  },
  {
   "cell_type": "code",
   "execution_count": 30,
   "id": "cc3dc11e",
   "metadata": {},
   "outputs": [],
   "source": [
    "suits = list(suits_info.keys())"
   ]
  },
  {
   "cell_type": "code",
   "execution_count": 32,
   "id": "1751e097",
   "metadata": {},
   "outputs": [
    {
     "data": {
      "text/plain": [
       "{'kind': 'Dot', 'point': 5, 'sn': 1}"
      ]
     },
     "execution_count": 32,
     "metadata": {},
     "output_type": "execute_result"
    }
   ],
   "source": [
    "suits_info['Dot_05_01']"
   ]
  },
  {
   "cell_type": "code",
   "execution_count": 35,
   "id": "73f4a3fe",
   "metadata": {},
   "outputs": [
    {
     "name": "stdout",
     "output_type": "stream",
     "text": [
      "Bamboo_01_01\n"
     ]
    },
    {
     "data": {
      "text/plain": [
       "{'kind': 'Bamboo', 'point': 1, 'sn': 1}"
      ]
     },
     "execution_count": 35,
     "metadata": {},
     "output_type": "execute_result"
    }
   ],
   "source": [
    "print(suits[0])\n",
    "suits_info[suits[0]]"
   ]
  },
  {
   "cell_type": "markdown",
   "id": "b79efb2a",
   "metadata": {},
   "source": [
    "# 摸牌"
   ]
  },
  {
   "cell_type": "code",
   "execution_count": 36,
   "id": "93e82c58",
   "metadata": {},
   "outputs": [],
   "source": [
    "import random"
   ]
  },
  {
   "cell_type": "code",
   "execution_count": null,
   "id": "7806de36",
   "metadata": {},
   "outputs": [],
   "source": [
    "sample = 53  # 庄家14张牌，其他玩家13张牌"
   ]
  },
  {
   "cell_type": "code",
   "execution_count": 44,
   "id": "0abe4afb",
   "metadata": {},
   "outputs": [],
   "source": [
    "# 摸牌函数，首轮摸牌阶段\n",
    "def deal_suits(suits, sample=53):\n",
    "    selected_suits = random.sample(suits, sample)\n",
    "    \n",
    "    player_a_suits =[]\n",
    "    player_b_suits =[]\n",
    "    player_c_suits =[]\n",
    "    player_d_suits =[]\n",
    "    \n",
    "    player_rank = itertools.cycle('abcd')\n",
    "    player_rank = itertools.islice(player_rank, 0, 54, 1)\n",
    "    \n",
    "    for suit, player in zip(selected_suits, player_rank):\n",
    "        if player == 'a':\n",
    "            player_a_suits.append(suit)\n",
    "        elif player == 'b':\n",
    "            player_b_suits.append(suit)\n",
    "        elif player == 'c':\n",
    "            player_c_suits.append(suit)\n",
    "        elif player == 'd':\n",
    "            player_d_suits.append(suit)\n",
    "    \n",
    "    suits_dealed = {\n",
    "        'a': player_a_suits,\n",
    "        'b': player_b_suits,\n",
    "        'c': player_c_suits,\n",
    "        'd': player_d_suits\n",
    "        }\n",
    "    return suits_dealed"
   ]
  },
  {
   "cell_type": "code",
   "execution_count": 46,
   "id": "c1aa3885",
   "metadata": {},
   "outputs": [
    {
     "data": {
      "text/plain": [
       "['Dot_04_03',\n",
       " 'Character_03_02',\n",
       " 'Dot_03_02',\n",
       " 'Character_01_04',\n",
       " 'Bamboo_05_03',\n",
       " 'Dot_07_03',\n",
       " 'Character_05_03',\n",
       " 'Bamboo_08_04',\n",
       " 'Bamboo_02_02',\n",
       " 'Character_09_03',\n",
       " 'Bamboo_08_03',\n",
       " 'Bamboo_06_02',\n",
       " 'Dot_01_02',\n",
       " 'Bamboo_07_02']"
      ]
     },
     "execution_count": 46,
     "metadata": {},
     "output_type": "execute_result"
    }
   ],
   "source": [
    "suits_dealed = deal_suits(suits)\n",
    "suits_dealed['a']"
   ]
  },
  {
   "cell_type": "code",
   "execution_count": 75,
   "id": "af58a693",
   "metadata": {},
   "outputs": [],
   "source": [
    "def display_suits(suits):\n",
    "    bamboo = []\n",
    "    character = []\n",
    "    dot = []\n",
    "    suit_cnt = 0\n",
    "    \n",
    "    for suit in suits:\n",
    "        kind = suits_info[suit]['kind']\n",
    "        point = suits_info[suit]['point']\n",
    "        sn = suits_info[suit]['sn']\n",
    "        if kind == 'Bamboo':\n",
    "            bamboo.append('【'+str(point)+'条】')\n",
    "            suit_cnt = suit_cnt+1\n",
    "        elif kind == 'Character':\n",
    "            character.append('【'+str(point)+'万】')\n",
    "            suit_cnt = suit_cnt+1\n",
    "        elif kind == 'Dot':\n",
    "            dot.append('【'+str(point)+'筒】')\n",
    "            suit_cnt = suit_cnt+1\n",
    "    # 排序调整\n",
    "    bamboo.sort()\n",
    "    character.sort()\n",
    "    dot.sort()\n",
    "    \n",
    "    # 格式输出\n",
    "    print('-'*60)\n",
    "    print(f'玩家有{suit_cnt}张牌，牌型为：')\n",
    "    print('-'*40)\n",
    "    \n",
    "    print('万：', end='')\n",
    "    for s in character:\n",
    "        print(s, end='')\n",
    "    print('\\n')\n",
    "    print('筒：', end='')\n",
    "    for s in dot:\n",
    "        print(s, end='')\n",
    "    print('\\n')\n",
    "    print('条：', end='')\n",
    "    for s in bamboo:\n",
    "        print(s, end='')\n",
    "    print('\\n')\n",
    "    \n",
    "    print('-'*40)"
   ]
  },
  {
   "cell_type": "code",
   "execution_count": 76,
   "id": "6f2754bf",
   "metadata": {},
   "outputs": [
    {
     "name": "stdout",
     "output_type": "stream",
     "text": [
      "------------------------------------------------------------\n",
      "玩家有14张牌，牌型为：\n",
      "----------------------------------------\n",
      "万：【1万】【3万】【5万】【9万】\n",
      "\n",
      "筒：【1筒】【3筒】【4筒】【7筒】\n",
      "\n",
      "条：【2条】【5条】【6条】【7条】【8条】【8条】\n",
      "\n",
      "----------------------------------------\n"
     ]
    }
   ],
   "source": [
    "display_suits(suits_dealed['a'])"
   ]
  },
  {
   "cell_type": "code",
   "execution_count": 77,
   "id": "6f6f008a",
   "metadata": {},
   "outputs": [
    {
     "name": "stdout",
     "output_type": "stream",
     "text": [
      "------------------------------------------------------------\n",
      "玩家有14张牌，牌型为：\n",
      "----------------------------------------\n",
      "万：【1万】【3万】【5万】【9万】\n",
      "\n",
      "筒：【1筒】【3筒】【4筒】【7筒】\n",
      "\n",
      "条：【2条】【5条】【6条】【7条】【8条】【8条】\n",
      "\n",
      "----------------------------------------\n",
      "------------------------------------------------------------\n",
      "玩家有13张牌，牌型为：\n",
      "----------------------------------------\n",
      "万：【2万】【5万】【9万】\n",
      "\n",
      "筒：【2筒】【3筒】【5筒】【5筒】【7筒】【8筒】【8筒】\n",
      "\n",
      "条：【5条】【9条】【9条】\n",
      "\n",
      "----------------------------------------\n",
      "------------------------------------------------------------\n",
      "玩家有13张牌，牌型为：\n",
      "----------------------------------------\n",
      "万：【5万】【6万】【6万】【8万】\n",
      "\n",
      "筒：【4筒】【5筒】【8筒】【9筒】\n",
      "\n",
      "条：【4条】【5条】【6条】【7条】【8条】\n",
      "\n",
      "----------------------------------------\n",
      "------------------------------------------------------------\n",
      "玩家有13张牌，牌型为：\n",
      "----------------------------------------\n",
      "万：【2万】【3万】【4万】【6万】【7万】【7万】【8万】\n",
      "\n",
      "筒：【4筒】\n",
      "\n",
      "条：【1条】【3条】【4条】【4条】【7条】\n",
      "\n",
      "----------------------------------------\n"
     ]
    }
   ],
   "source": [
    "for player in list('abcd'):\n",
    "    display_suits(suits_dealed[player])"
   ]
  },
  {
   "cell_type": "code",
   "execution_count": null,
   "id": "6ec5bd8f",
   "metadata": {},
   "outputs": [],
   "source": []
  }
 ],
 "metadata": {
  "kernelspec": {
   "display_name": "Python 3 (ipykernel)",
   "language": "python",
   "name": "python3"
  },
  "language_info": {
   "codemirror_mode": {
    "name": "ipython",
    "version": 3
   },
   "file_extension": ".py",
   "mimetype": "text/x-python",
   "name": "python",
   "nbconvert_exporter": "python",
   "pygments_lexer": "ipython3",
   "version": "3.11.5"
  },
  "toc": {
   "base_numbering": 1,
   "nav_menu": {},
   "number_sections": true,
   "sideBar": true,
   "skip_h1_title": false,
   "title_cell": "Table of Contents",
   "title_sidebar": "Contents",
   "toc_cell": false,
   "toc_position": {},
   "toc_section_display": true,
   "toc_window_display": false
  }
 },
 "nbformat": 4,
 "nbformat_minor": 5
}
