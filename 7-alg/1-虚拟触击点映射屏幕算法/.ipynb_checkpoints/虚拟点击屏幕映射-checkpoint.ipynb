{
 "cells": [
  {
   "cell_type": "markdown",
   "id": "904a44e0",
   "metadata": {},
   "source": [
    "# Project Intro\n",
    "虚拟触摸屏投射出虚拟键盘，通过触点虚拟键盘，在显示屏中完成对应的操作。\n",
    "- 虚拟显示屏通常会转换为一个类似梯形的投射界面；\n",
    "- 将梯形界面的坐标映射回真实的屏幕；"
   ]
  },
  {
   "cell_type": "markdown",
   "id": "fcdf15d2",
   "metadata": {},
   "source": [
    "# Pkgs"
   ]
  },
  {
   "cell_type": "code",
   "execution_count": 1,
   "id": "bab69730",
   "metadata": {},
   "outputs": [],
   "source": [
    "import matplotlib.pyplot as plt\n",
    "import numpy as np\n",
    "from scipy.linalg import solve\n",
    "import math\n",
    "\n",
    "%matplotlib inline"
   ]
  },
  {
   "cell_type": "markdown",
   "id": "8b79b0b2",
   "metadata": {},
   "source": [
    "# 屏幕建模"
   ]
  },
  {
   "cell_type": "code",
   "execution_count": 2,
   "id": "00a81450",
   "metadata": {},
   "outputs": [],
   "source": [
    "#small_screen的分辨率1270*672\n",
    "small_screen=[1270,672]"
   ]
  },
  {
   "cell_type": "markdown",
   "id": "77caca18",
   "metadata": {},
   "source": [
    "## 四个角的坐标被投射到虚拟屏幕的位置"
   ]
  },
  {
   "cell_type": "code",
   "execution_count": 3,
   "id": "9047a724",
   "metadata": {},
   "outputs": [
    {
     "data": {
      "image/png": "[encoded data removed]",
      "text/plain": [
       "<Figure size 640x480 with 1 Axes>"
      ]
     },
     "metadata": {},
     "output_type": "display_data"
    }
   ],
   "source": [
    "x = [10, 710, 190, 550]    # 实际测试得到\n",
    "y = [160, 200, 380, 390]\n",
    "\n",
    "#4个点在图中的位置\n",
    "\n",
    "x=np.array(x)\n",
    "y=np.array(y)\n",
    "\n",
    "plt.plot(x, y, marker='o');"
   ]
  },
  {
   "cell_type": "markdown",
   "id": "749791fb",
   "metadata": {},
   "source": [
    "# 任务分解"
   ]
  },
  {
   "cell_type": "code",
   "execution_count": 4,
   "id": "f42b9ec3",
   "metadata": {},
   "outputs": [],
   "source": [
    "# 根据平面上的两个点坐标，求解经过的直线\n",
    "def line_coef(point_a, point_b):\n",
    "    '''\n",
    "    根据平面上的两个点坐标，求解经过的直线的解析方程系数\n",
    "    \n",
    "    Args:\n",
    "        point_a(list) --第一个点的坐标[x, y].\n",
    "        point_b(list) --第二个点的坐标[x, y].\n",
    "    Returns:\n",
    "        k(float) --直线斜率\n",
    "        b(float) --直线截距\n",
    "    '''\n",
    "    # 斜率和截距\n",
    "    k = (point_a[1]-point_b[1])/(point_a[0]-point_b[0])     # k = (y1-y0)/(x1-x0)\n",
    "    b =point_a[1]-k*point_a[0]                              # b = y0-k*x0\n",
    "    \n",
    "    # 直线解析方程\n",
    "#     print('直线方程为：y = {:.4}x+{:.4}'.format(k, b))\n",
    "    return k, b"
   ]
  },
  {
   "cell_type": "code",
   "execution_count": 5,
   "id": "ca653337",
   "metadata": {},
   "outputs": [],
   "source": [
    "# 两条直线交点的坐标\n",
    "def cross_point_line(line_a, line_b):\n",
    "    k_list = [line_a[0], line_b[0]]\n",
    "    b_list = [line_a[1], line_b[1]]\n",
    "    \n",
    "    x = (b_list[1]-b_list[0])/(k_list[0]-k_list[1])\n",
    "    y = k_list[0]*x+b_list[0]\n",
    "    return x, y"
   ]
  },
  {
   "cell_type": "code",
   "execution_count": 6,
   "id": "38ca226f",
   "metadata": {},
   "outputs": [],
   "source": [
    "# 4个点的交叉坐标\n",
    "def cross_point(x, y):\n",
    "    # 定位4个点\n",
    "    point_a = [x[0], y[0]]\n",
    "    point_c = [x[2], y[2]]\n",
    "    \n",
    "    point_b = [x[1], y[1]]\n",
    "    point_d = [x[3], y[3]]\n",
    "    \n",
    "    # 直线方程\n",
    "    line_ac_k, line_ac_b = line_coef(point_a, point_c)\n",
    "    line_a = [line_ac_k, line_ac_b]\n",
    "    line_bd_k, line_bd_b = line_coef(point_b, point_d)\n",
    "    line_b = [line_bd_k, line_bd_b]\n",
    "    \n",
    "    # 交叉点坐标\n",
    "    corr_x, corr_y = cross_point_line(line_a, line_b)\n",
    "    return corr_x, corr_y"
   ]
  },
  {
   "cell_type": "code",
   "execution_count": 7,
   "id": "0d66592e",
   "metadata": {},
   "outputs": [],
   "source": [
    "# 两个点的距离\n",
    "def dist_between_2_points(point_a, point_b):\n",
    "    dist_squred = (point_a[0]- point_b[0])**2+(point_a[1]- point_b[1])**2\n",
    "    dist = dist_squred**0.5\n",
    "    return dist"
   ]
  },
  {
   "cell_type": "markdown",
   "id": "08dd0e91",
   "metadata": {},
   "source": [
    "## 辅助线方程"
   ]
  },
  {
   "cell_type": "code",
   "execution_count": 8,
   "id": "69c9150b",
   "metadata": {},
   "outputs": [],
   "source": [
    "point_a = [10, 160]\n",
    "point_c = [190, 380]\n",
    "\n",
    "line_ac_k, line_ac_b = line_coef(point_a, point_c)\n",
    "\n",
    "point_b = [710, 200]\n",
    "point_d = [550, 390]\n",
    "\n",
    "line_bd_k, line_bd_b = line_coef(point_b, point_d)"
   ]
  },
  {
   "cell_type": "markdown",
   "id": "44c1a6d0",
   "metadata": {},
   "source": [
    "## 交点"
   ]
  },
  {
   "cell_type": "code",
   "execution_count": 9,
   "id": "58540821",
   "metadata": {},
   "outputs": [
    {
     "name": "stdout",
     "output_type": "stream",
     "text": [
      "交点坐标： [371.5561959654178, 601.9020172910663]\n"
     ]
    }
   ],
   "source": [
    "# AC BD的焦点w\n",
    "w = []\n",
    "k, b = cross_point_line([line_ac_k, line_ac_b], [line_bd_k, line_bd_b])\n",
    "w.append(k)\n",
    "w.append(b)\n",
    "\n",
    "print('交点坐标：', w)"
   ]
  },
  {
   "cell_type": "markdown",
   "id": "c63f34d5",
   "metadata": {},
   "source": [
    "## 伸缩比例"
   ]
  },
  {
   "cell_type": "code",
   "execution_count": 14,
   "id": "f0c64447",
   "metadata": {},
   "outputs": [],
   "source": [
    "def h_cross_point(touch_point, new_screen_x, new_screen_y):\n",
    "    point_a = [new_screen_x[0], new_screen_y[0]]\n",
    "    point_b = [new_screen_x[1], new_screen_y[1]]\n",
    "    point_c = [new_screen_x[2], new_screen_y[2]]\n",
    "    point_d = [new_screen_x[3], new_screen_y[3]]\n",
    "    \n",
    "    # 横向辅助线\n",
    "    line_ab_k, line_ab_b = line_coef(point_a, point_b)\n",
    "    line_ab = [line_ab_k, line_ab_b]\n",
    "    line_cd_k, line_cd_b = line_coef(point_c, point_d)\n",
    "    line_cd = [line_cd_k, line_cd_b]\n",
    "    \n",
    "    # 横向辅助点\n",
    "    asisst_x, asisst_y = cross_point_line(line_ab, line_cd)\n",
    "    \n",
    "    # 横向交点\n",
    "    x = [point_a[0], touch_point[0],  point_c[0], asisst_x]\n",
    "    y = [point_a[1], touch_point[1],  point_c[1], asisst_y]\n",
    "    \n",
    "    cross_x, cross_y = cross_point(x, y) \n",
    "    return cross_x, cross_y"
   ]
  },
  {
   "cell_type": "code",
   "execution_count": 15,
   "id": "d5901b48",
   "metadata": {},
   "outputs": [],
   "source": [
    "def v_cross_point(touch_point, new_screen_x, new_screen_y):\n",
    "    point_a = [new_screen_x[0], new_screen_y[0]]\n",
    "    point_b = [new_screen_x[1], new_screen_y[1]]\n",
    "    point_c = [new_screen_x[2], new_screen_y[2]]\n",
    "    point_d = [new_screen_x[3], new_screen_y[3]]\n",
    "    \n",
    "    # 纵向辅助线\n",
    "    line_ac_k, line_ac_b = line_coef(point_a, point_c)\n",
    "    line_ac = [line_ac_k, line_ac_b]\n",
    "    line_bd_k, line_bd_b = line_coef(point_b, point_d)\n",
    "    line_bd = [line_bd_k, line_bd_b]\n",
    "    \n",
    "    # 纵向辅助点\n",
    "    asisst_x, asisst_y = cross_point_line(line_ac, line_bd)\n",
    "    \n",
    "    # 纵向交点\n",
    "    x = [point_a[0], touch_point[0],  point_b[0], asisst_x]\n",
    "    y = [point_a[1], touch_point[1],  point_b[1], asisst_y]\n",
    "    \n",
    "    cross_x, cross_y = cross_point(x, y) \n",
    "    return cross_x, cross_y"
   ]
  },
  {
   "cell_type": "code",
   "execution_count": 16,
   "id": "b2b3bfd1",
   "metadata": {},
   "outputs": [],
   "source": [
    "# 输出屏幕坐标\n",
    "def get_screen_corr(touch_point, new_screen_x, new_screen_y, origin_screen):\n",
    "    point_a = [new_screen_x[0], new_screen_y[0]]\n",
    "    point_b = [new_screen_x[1], new_screen_y[1]]\n",
    "    point_c = [new_screen_x[2], new_screen_y[2]]\n",
    "    point_d = [new_screen_x[3], new_screen_y[3]]\n",
    "    \n",
    "    # 横向交叉点\n",
    "    h_point_x, h_point_y = h_cross_point(touch_point, new_screen_x, new_screen_y)\n",
    "    h_point = [h_point_x, h_point_y]\n",
    "    print(\"横向拓展交点的坐标：\", h_point)\n",
    "    # 横向缩放比例\n",
    "    ac_dist = dist_between_2_points(point_a, point_c)\n",
    "    h_dist = dist_between_2_points(point_a, h_point)\n",
    "    h_ratio = h_dist/ac_dist\n",
    "    print(\"宽边转换比：\",h_ratio)\n",
    "    \n",
    "    # 纵向交叉点\n",
    "    v_point_x, v_point_y = v_cross_point(touch_point, new_screen_x, new_screen_y)\n",
    "    v_point = [v_point_x, v_point_y]\n",
    "    print(\"纵向拓展交点的坐标：\", v_point)\n",
    "    # 纵向缩放比例\n",
    "    ab_dist = dist_between_2_points(point_a, point_b)\n",
    "    v_dist = dist_between_2_points(point_a, v_point)\n",
    "    v_ratio = v_dist/ab_dist\n",
    "    print(\"长边转换比：\",v_ratio)\n",
    "    \n",
    "    # 屏幕映射\n",
    "    \n",
    "    print(\"屏幕分辨率:\", origin_screen)\n",
    "    x = origin_screen[0]*v_ratio\n",
    "    y = origin_screen[1]*h_ratio\n",
    "    print(\"目标点坐标：\", round(x, 2), round(y, 2))\n",
    "    return x, y"
   ]
  },
  {
   "cell_type": "markdown",
   "id": "083845cd",
   "metadata": {},
   "source": [
    "# 输入虚拟屏幕坐标投射"
   ]
  },
  {
   "cell_type": "code",
   "execution_count": 17,
   "id": "bacd545b",
   "metadata": {},
   "outputs": [
    {
     "name": "stdout",
     "output_type": "stream",
     "text": [
      "横向拓展交点的坐标： [181.86258499570621, 370.0542705503076]\n",
      "宽边转换比： 0.9547921388650346\n",
      "纵向拓展交点的坐标： [6.363717668277766, 159.79221243818728]\n",
      "长边转换比： 0.005194689045317479\n",
      "屏幕分辨率: [1270, 672]\n",
      "目标点坐标： 6.6 641.62\n"
     ]
    },
    {
     "data": {
      "text/plain": [
       "(6.597255087553198, 641.6203173173033)"
      ]
     },
     "execution_count": 17,
     "metadata": {},
     "output_type": "execute_result"
    }
   ],
   "source": [
    "#touch点\n",
    "touch_point = [180,370]\n",
    "\n",
    "new_screen_x = [10, 710, 190, 550]    # 实际测试得到\n",
    "new_screen_y = [160, 200, 380, 390]\n",
    "\n",
    "origin_screen = [1270,672]            # 屏幕分辨率\n",
    "\n",
    "get_screen_corr(touch_point, new_screen_x, new_screen_y, origin_screen)"
   ]
  },
  {
   "cell_type": "code",
   "execution_count": null,
   "id": "48a7431a",
   "metadata": {},
   "outputs": [],
   "source": []
  }
 ],
 "metadata": {
  "kernelspec": {
   "display_name": "Python 3 (ipykernel)",
   "language": "python",
   "name": "python3"
  },
  "language_info": {
   "codemirror_mode": {
    "name": "ipython",
    "version": 3
   },
   "file_extension": ".py",
   "mimetype": "text/x-python",
   "name": "python",
   "nbconvert_exporter": "python",
   "pygments_lexer": "ipython3",
   "version": "3.11.5"
  },
  "toc": {
   "base_numbering": 1,
   "nav_menu": {},
   "number_sections": true,
   "sideBar": true,
   "skip_h1_title": false,
   "title_cell": "Table of Contents",
   "title_sidebar": "Contents",
   "toc_cell": false,
   "toc_position": {},
   "toc_section_display": true,
   "toc_window_display": true
  }
 },
 "nbformat": 4,
 "nbformat_minor": 5
}
