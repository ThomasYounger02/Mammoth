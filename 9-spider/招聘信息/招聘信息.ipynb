{
 "cells": [
  {
   "cell_type": "markdown",
   "id": "d812d836",
   "metadata": {},
   "source": [
    "# 明确目标\n",
    "\n",
    "先爬取企业排行榜四个榜单里的公司，再接着爬取这些公司的招聘信息。\n",
    "\n",
    "# 分析过程\n",
    "\n",
    "首先，要看企业排行榜里的公司信息藏在了哪里。\n",
    "\n",
    "## 企业排行榜的公司信息\n",
    "\n",
    "右击打开“检查”工具，点击Network，刷新页面。点开第0个请求company/，看Response，找一下有没有榜单的公司信息在里面。\n",
    "\n",
    "<img src=\"pics/分析1.png\" width=\"40%\">\n",
    "\n",
    "发现四个榜单的所有公司信息都在里面。说明企业排行榜的公司信息就藏在html里。\n",
    "\n",
    "点击Elements，点亮光标，再把鼠标移到【北京字节跳动科技有限公司】，这时就会定位到含有这家公司信息的<a>元素上。\n",
    "\n",
    "## 公司详情页面的招聘信息\n",
    "\n",
    "## 代码实现"
   ]
  },
  {
   "cell_type": "code",
   "execution_count": null,
   "id": "097e1f7a",
   "metadata": {},
   "outputs": [],
   "source": []
  }
 ],
 "metadata": {
  "kernelspec": {
   "display_name": "Python 3 (ipykernel)",
   "language": "python",
   "name": "python3"
  },
  "language_info": {
   "codemirror_mode": {
    "name": "ipython",
    "version": 3
   },
   "file_extension": ".py",
   "mimetype": "text/x-python",
   "name": "python",
   "nbconvert_exporter": "python",
   "pygments_lexer": "ipython3",
   "version": "3.11.5"
  }
 },
 "nbformat": 4,
 "nbformat_minor": 5
}
