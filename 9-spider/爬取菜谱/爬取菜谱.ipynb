{
 "cells": [
  {
   "cell_type": "markdown",
   "id": "8385c8e5",
   "metadata": {},
   "source": [
    "# Project Intro\n",
    "\n",
    "\n",
    "## 分析过程\n",
    "\n",
    "查看源代码-寻找最小共同父级标签-验证规律\n",
    "\n",
    "寻找最小共同父级标签是一种很常见的提取数据思路\n",
    "\n",
    "数量太多而无规律，我们会换个标签提取；数量不多而有规律，我们会对提取的结果进行筛选——只要列表中的若干个元素就好。\n",
    "\n",
    "爬虫，它是一项需要许多实操，才能灵活掌握的技能。"
   ]
  },
  {
   "cell_type": "code",
   "execution_count": 1,
   "id": "4158019d",
   "metadata": {},
   "outputs": [],
   "source": [
    "import requests\n",
    "from bs4 import BeautifulSoup"
   ]
  },
  {
   "cell_type": "code",
   "execution_count": 3,
   "id": "89659c00",
   "metadata": {},
   "outputs": [],
   "source": [
    "url = 'http://www.xiachufang.com/explore/'\n",
    "res = requests.get(url)   # 获取数据\n",
    "soup = BeautifulSoup(res.text, 'html.parser')               # 解析数据\n",
    "items = soup.find_all('div', class_='info pure-u')          # 查找最小父级标签"
   ]
  },
  {
   "cell_type": "code",
   "execution_count": 5,
   "id": "6221a4ff",
   "metadata": {},
   "outputs": [
    {
     "name": "stdout",
     "output_type": "stream",
     "text": [
      "[['酸汤面', 'http://www.xiachufang.com/recipe/107067882/', '面条、青菜、鸡蛋、火腿'], ['特开胃牛肉炒菠萝', 'http://www.xiachufang.com/recipe/107107591/', '牛肉、菠萝、生抽、料酒、黑胡椒、淀粉、油'], ['可乐鸡翅', 'http://www.xiachufang.com/recipe/106403214/', '鸡翅、老抽、生抽、蚝油、可乐、葱姜蒜、料酒'], ['❗拿肉都不换的手撕包菜，5分钟快手家常菜🔥', 'http://www.xiachufang.com/recipe/106397717/', '包菜、大蒜、干辣椒'], ['司康做了上千个🔥配方只认这一个！', 'http://www.xiachufang.com/recipe/107270001/', '馅料部分、奶油奶酪、糖粉、蔓越莓干、司康体材料、低筋面粉、黄油、糖粉、淡奶油（或者牛奶）、鸡蛋液、泡打粉、奶粉、表面装饰蔓越莓干'], ['糖醋排骨（试验多次的最佳口感）', 'http://www.xiachufang.com/recipe/105979376/', '排骨、醋、冰糖/白糖、料酒、生抽、老抽、大料、白芝麻、淀粉加水'], ['一定要吃的年夜饭—招财进宝', 'http://www.xiachufang.com/recipe/107015482/', '口菇、鹌鹑蛋、小米辣、葱花、色拉油、白灼汁'], ['香菜拌牛肉', 'http://www.xiachufang.com/recipe/106828100/', '牛肉、香菜、白芝麻、香油、蒜、生抽、蚝油、醋、辣椒油、白糖、花椒油'], ['椒麻口水鸡', 'http://www.xiachufang.com/recipe/106763393/', '鸡腿、小米椒、青椒、蒜末、白芝麻、辣椒粉、金针菇'], ['做了几百次的的巴斯克芝士蛋糕', 'http://www.xiachufang.com/recipe/107169126/', '奶油奶酪、淡奶油、细砂糖、蛋黄、鸡蛋、玉米淀粉'], ['不可缺少的年夜饭—花开富贵虾', 'http://www.xiachufang.com/recipe/107054747/', '大虾、粉丝、蒜蓉、葱丝、红椒丝、白灼汁'], ['千层肉饼🌮超级简单版', 'http://www.xiachufang.com/recipe/107243823/', '牛肉馅、洋葱、盐、生抽、鸡蛋、手抓饼、白芝麻'], ['🔥好吃到汤汁都不剩❗️酸汤馄饨❗️', 'http://www.xiachufang.com/recipe/104186015/', '馄饨、蒜末、葱花、熟芝麻、辣椒粉、紫菜、香菜'], ['金玉满堂——虾仁杂蔬炒火龙果', 'http://www.xiachufang.com/recipe/106675073/', '火龙果、虾仁、杂蔬（玉米粒青豆胡萝卜丁）、干果、盐、糖、水淀粉（可选）'], ['比外面卖的凉拌菜都好吃', 'http://www.xiachufang.com/recipe/106828623/', '生抽、香油、蚝油、米醋、蒜瓣、小米辣、白芝麻'], ['好吃到舔盘的蒜香黑椒牛肉粒', 'http://www.xiachufang.com/recipe/106502887/', '牛里脊、蒜头、生抽、玉米淀粉、白糖、蒜、盐、料酒、黄油、食用油、黑胡椒'], ['教你做胖嘟嘟的空气蛋糕❗️轻盈松软敲好吃😋', 'http://www.xiachufang.com/recipe/107241880/', '鸡蛋、玉米油、低筋面粉、细砂糖、柠檬汁'], ['高汤块，万能汤底保姆级教程', 'http://www.xiachufang.com/recipe/107229348/', '鸡架、鸡爪、猪棒骨、姜片'], ['好吃到舔盘的肥牛金针菇卷', 'http://www.xiachufang.com/recipe/107031588/', '肥牛、小米椒、金针菇、蒜末'], ['‼️比辣条还好吃百倍〰️香辣豆皮✅零厨艺', 'http://www.xiachufang.com/recipe/106030102/', '千张（豆皮）、小米椒、、葱花、香菜、生抽、香醋、蚝油、盐糖'], ['一看就会的黄瓜摆盘', 'http://www.xiachufang.com/recipe/104658556/', '黄瓜🥒、枸杞'], ['无敌美味酱牛肉～', 'http://www.xiachufang.com/recipe/106659115/', '牛腱、甜面酱、腐乳（酱豆腐）、洋葱、草果、香叶、桂皮、花椒、八角、干辣椒、生姜、黄豆酱油'], ['有手就会蒜香黄油蜂蜜鸡腿', 'http://www.xiachufang.com/recipe/107154538/', '手枪鸡腿、料酒、生抽、耗油、盐、黑胡椒、姜片、淀粉、黄油蜂蜜蒜蓉酱：、黄油、蒜末、生抽、蜂蜜'], ['我要告诉所有的朋友 ｜ 千层椒盐发面烧饼  这么做太好吃了', 'http://www.xiachufang.com/recipe/107169007/', '面粉、酵母、温水（夏天不用）、玉米油、盐、无铝泡打粉、油酥、面粉、油、盐、花椒粉、抹面、蛋黄、油'], ['比布丁还要嫩，老少皆宜的肉沫蒸蛋', 'http://www.xiachufang.com/recipe/106781050/', '鸡蛋、肉沫、葱花、蚝油、生抽、盐、淀粉水']]\n"
     ]
    }
   ],
   "source": [
    "food = []    # 创建一个空列表，用于存储信息\n",
    "\n",
    "for item in items:\n",
    "    name = item.find('a').text.strip()\n",
    "    url = 'http://www.xiachufang.com' + item.find('a')['href']\n",
    "    p = item.find('p', class_='ing ellipsis').text.strip()\n",
    "    food.append([name, url, p])\n",
    "\n",
    "print(food)"
   ]
  },
  {
   "cell_type": "markdown",
   "id": "0dcda343",
   "metadata": {},
   "source": [
    "`.text`获取到的是该标签内的纯文本信息，即便是在它的子标签内，也能拿得到。但提取属性的值，只能提取该标签本身的。\n",
    "\n",
    "<aside>\n",
    "💡 爬虫，它是一项需要许多实操，才能灵活掌握的技能。\n",
    "\n",
    "</aside>"
   ]
  },
  {
   "cell_type": "code",
   "execution_count": null,
   "id": "cd745e84",
   "metadata": {},
   "outputs": [],
   "source": []
  }
 ],
 "metadata": {
  "kernelspec": {
   "display_name": "Python 3 (ipykernel)",
   "language": "python",
   "name": "python3"
  },
  "language_info": {
   "codemirror_mode": {
    "name": "ipython",
    "version": 3
   },
   "file_extension": ".py",
   "mimetype": "text/x-python",
   "name": "python",
   "nbconvert_exporter": "python",
   "pygments_lexer": "ipython3",
   "version": "3.11.5"
  },
  "toc": {
   "base_numbering": 1,
   "nav_menu": {},
   "number_sections": true,
   "sideBar": true,
   "skip_h1_title": false,
   "title_cell": "Table of Contents",
   "title_sidebar": "Contents",
   "toc_cell": false,
   "toc_position": {},
   "toc_section_display": true,
   "toc_window_display": false
  }
 },
 "nbformat": 4,
 "nbformat_minor": 5
}
