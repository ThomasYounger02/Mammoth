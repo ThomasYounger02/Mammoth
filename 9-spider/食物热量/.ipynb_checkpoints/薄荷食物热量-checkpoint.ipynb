{
 "cells": [
  {
   "cell_type": "markdown",
   "id": "7ad5a751",
   "metadata": {},
   "source": [
    "# 食物热量\n",
    "\n",
    "# 明确目标\n",
    "\n",
    "用多协程爬取薄荷网的食物热量。\n",
    "\n",
    "用多协程爬取薄荷网11个常见食物分类里的食物信息（包含食物名、热量、食物详情页面链接）。\n",
    "\n",
    "# 分析过程\n",
    "\n",
    "打开“检查”工具，并点击Network，然后刷新页面。点击第0个请求1，看Response。\n",
    "\n",
    "能在Response里找到食物的信息，说明我们想要的数据存在HTML里。\n",
    "\n",
    "再看第0个请求1的Headers，可以发现薄荷网的网页请求方式是get。\n",
    "\n",
    "请求方式是get，我们就知道可以用requests.get()获取数据。\n",
    "\n",
    "<img src=\"pics/请求方式.png\" width=\"40%\">\n",
    "分析网页特征：\n",
    "<img src=\"pics/分析1.png\" width=\"40%\"><img src=\"pics/分析2.png\" width=\"40%\">\n",
    "\n",
    "# 代码实现"
   ]
  },
  {
   "cell_type": "code",
   "execution_count": null,
   "id": "6d59afa9",
   "metadata": {},
   "outputs": [],
   "source": []
  }
 ],
 "metadata": {
  "kernelspec": {
   "display_name": "Python 3 (ipykernel)",
   "language": "python",
   "name": "python3"
  },
  "language_info": {
   "codemirror_mode": {
    "name": "ipython",
    "version": 3
   },
   "file_extension": ".py",
   "mimetype": "text/x-python",
   "name": "python",
   "nbconvert_exporter": "python",
   "pygments_lexer": "ipython3",
   "version": "3.11.5"
  }
 },
 "nbformat": 4,
 "nbformat_minor": 5
}
